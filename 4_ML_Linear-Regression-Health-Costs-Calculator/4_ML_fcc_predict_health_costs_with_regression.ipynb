{
  "nbformat": 4,
  "nbformat_minor": 0,
  "metadata": {
    "colab": {
      "name": "4_ML_fcc_predict_health_costs_with_regression.ipynb",
      "provenance": [],
      "collapsed_sections": []
    },
    "kernelspec": {
      "name": "python3",
      "display_name": "Python 3"
    },
    "language_info": {
      "name": "python"
    }
  },
  "cells": [
    {
      "cell_type": "markdown",
      "metadata": {
        "id": "KMxt1mPZHE5X"
      },
      "source": [
        "# Linear Regression Health Costs Calculator"
      ]
    },
    {
      "cell_type": "markdown",
      "metadata": {
        "id": "9GtxkRCdG31x"
      },
      "source": [
        "*Note: You are currently reading this using Google Colaboratory which is a cloud-hosted version of Jupyter Notebook. This is a document containing both text cells for documentation and runnable code cells. If you are unfamiliar with Jupyter Notebook, watch this 3-minute introduction before starting this challenge: https://www.youtube.com/watch?v=inN8seMm7UI*\n",
        "\n",
        "---\n",
        "\n",
        "In this challenge, you will predict healthcare costs using a regression algorithm.\n",
        "\n",
        "You are given a dataset that contains information about different people including their healthcare costs. Use the data to predict healthcare costs based on new data.\n",
        "\n",
        "The first two cells of this notebook import libraries and the data.\n",
        "\n",
        "Make sure to convert categorical data to numbers. Use 80% of the data as the `train_dataset` and 20% of the data as the `test_dataset`.\n",
        "\n",
        "`pop` off the \"expenses\" column from these datasets to create new datasets called `train_labels` and `test_labels`. Use these labels when training your model.\n",
        "\n",
        "Create a model and train it with the `train_dataset`. Run the final cell in this notebook to check your model. The final cell will use the unseen `test_dataset` to check how well the model generalizes.\n",
        "\n",
        "To pass the challenge, `model.evaluate` must return a Mean Absolute Error of under 3500. This means it predicts health care costs correctly within $3500.\n",
        "\n",
        "The final cell will also predict expenses using the `test_dataset` and graph the results."
      ]
    },
    {
      "cell_type": "markdown",
      "metadata": {
        "id": "Tbc7AWplT8MS"
      },
      "source": [
        "## Import Libraries"
      ]
    },
    {
      "cell_type": "code",
      "metadata": {
        "colab": {
          "base_uri": "https://localhost:8080/"
        },
        "id": "njD8829TFo45",
        "outputId": "f9417d9a-b1a3-4f38-d85a-e27cb02fb5f9"
      },
      "source": [
        "# Import libraries. You may or may not use all of these.\n",
        "!pip install -q git+https://github.com/tensorflow/docs\n",
        "import matplotlib.pyplot as plt\n",
        "import numpy as np\n",
        "import pandas as pd\n",
        "\n",
        "try:\n",
        "  # %tensorflow_version only exists in Colab.\n",
        "  %tensorflow_version 2.x\n",
        "except Exception:\n",
        "  pass\n",
        "import tensorflow as tf\n",
        "\n",
        "from tensorflow import keras\n",
        "from tensorflow.keras import layers\n",
        "\n",
        "import tensorflow_docs as tfdocs\n",
        "import tensorflow_docs.plots\n",
        "import tensorflow_docs.modeling"
      ],
      "execution_count": 1,
      "outputs": [
        {
          "output_type": "stream",
          "text": [
            "\u001b[K     |████████████████████████████████| 1.0MB 3.9MB/s \n",
            "\u001b[?25h  Building wheel for tensorflow-docs (setup.py) ... \u001b[?25l\u001b[?25hdone\n"
          ],
          "name": "stdout"
        }
      ]
    },
    {
      "cell_type": "markdown",
      "metadata": {
        "id": "l_09I01AJlF2"
      },
      "source": [
        "## Load the Data"
      ]
    },
    {
      "cell_type": "code",
      "metadata": {
        "colab": {
          "base_uri": "https://localhost:8080/"
        },
        "id": "DhIzODkyFsGB",
        "outputId": "688d8d8d-4317-40e8-f98b-f2db1683c5bf"
      },
      "source": [
        "# Import data\n",
        "!wget https://cdn.freecodecamp.org/project-data/health-costs/insurance.csv\n",
        "dataset = pd.read_csv('insurance.csv')"
      ],
      "execution_count": 2,
      "outputs": [
        {
          "output_type": "stream",
          "text": [
            "--2021-05-06 10:02:48--  https://cdn.freecodecamp.org/project-data/health-costs/insurance.csv\n",
            "Resolving cdn.freecodecamp.org (cdn.freecodecamp.org)... 104.26.2.33, 104.26.3.33, 172.67.70.149, ...\n",
            "Connecting to cdn.freecodecamp.org (cdn.freecodecamp.org)|104.26.2.33|:443... connected.\n",
            "HTTP request sent, awaiting response... 200 OK\n",
            "Length: 50264 (49K) [text/csv]\n",
            "Saving to: ‘insurance.csv’\n",
            "\n",
            "\rinsurance.csv         0%[                    ]       0  --.-KB/s               \rinsurance.csv       100%[===================>]  49.09K  --.-KB/s    in 0.01s   \n",
            "\n",
            "2021-05-06 10:02:49 (4.36 MB/s) - ‘insurance.csv’ saved [50264/50264]\n",
            "\n"
          ],
          "name": "stdout"
        }
      ]
    },
    {
      "cell_type": "markdown",
      "metadata": {
        "id": "L8h1_cKKWVhh"
      },
      "source": [
        "## Explore the Data to Gain Insights"
      ]
    },
    {
      "cell_type": "markdown",
      "metadata": {
        "id": "Rq1ARUBmVol5"
      },
      "source": [
        "Let’s create a copy so that I can play with it without harming the original dataset and explore the dataset."
      ]
    },
    {
      "cell_type": "code",
      "metadata": {
        "id": "3G0e1CZ4F6M3"
      },
      "source": [
        "eda_data = dataset.copy()"
      ],
      "execution_count": 3,
      "outputs": []
    },
    {
      "cell_type": "code",
      "metadata": {
        "colab": {
          "base_uri": "https://localhost:8080/",
          "height": 415
        },
        "id": "In5DiK0bGbgi",
        "outputId": "93e8c90f-6139-43a8-bf35-70704ee61b71"
      },
      "source": [
        "eda_data"
      ],
      "execution_count": 4,
      "outputs": [
        {
          "output_type": "execute_result",
          "data": {
            "text/html": [
              "<div>\n",
              "<style scoped>\n",
              "    .dataframe tbody tr th:only-of-type {\n",
              "        vertical-align: middle;\n",
              "    }\n",
              "\n",
              "    .dataframe tbody tr th {\n",
              "        vertical-align: top;\n",
              "    }\n",
              "\n",
              "    .dataframe thead th {\n",
              "        text-align: right;\n",
              "    }\n",
              "</style>\n",
              "<table border=\"1\" class=\"dataframe\">\n",
              "  <thead>\n",
              "    <tr style=\"text-align: right;\">\n",
              "      <th></th>\n",
              "      <th>age</th>\n",
              "      <th>sex</th>\n",
              "      <th>bmi</th>\n",
              "      <th>children</th>\n",
              "      <th>smoker</th>\n",
              "      <th>region</th>\n",
              "      <th>expenses</th>\n",
              "    </tr>\n",
              "  </thead>\n",
              "  <tbody>\n",
              "    <tr>\n",
              "      <th>0</th>\n",
              "      <td>19</td>\n",
              "      <td>female</td>\n",
              "      <td>27.9</td>\n",
              "      <td>0</td>\n",
              "      <td>yes</td>\n",
              "      <td>southwest</td>\n",
              "      <td>16884.92</td>\n",
              "    </tr>\n",
              "    <tr>\n",
              "      <th>1</th>\n",
              "      <td>18</td>\n",
              "      <td>male</td>\n",
              "      <td>33.8</td>\n",
              "      <td>1</td>\n",
              "      <td>no</td>\n",
              "      <td>southeast</td>\n",
              "      <td>1725.55</td>\n",
              "    </tr>\n",
              "    <tr>\n",
              "      <th>2</th>\n",
              "      <td>28</td>\n",
              "      <td>male</td>\n",
              "      <td>33.0</td>\n",
              "      <td>3</td>\n",
              "      <td>no</td>\n",
              "      <td>southeast</td>\n",
              "      <td>4449.46</td>\n",
              "    </tr>\n",
              "    <tr>\n",
              "      <th>3</th>\n",
              "      <td>33</td>\n",
              "      <td>male</td>\n",
              "      <td>22.7</td>\n",
              "      <td>0</td>\n",
              "      <td>no</td>\n",
              "      <td>northwest</td>\n",
              "      <td>21984.47</td>\n",
              "    </tr>\n",
              "    <tr>\n",
              "      <th>4</th>\n",
              "      <td>32</td>\n",
              "      <td>male</td>\n",
              "      <td>28.9</td>\n",
              "      <td>0</td>\n",
              "      <td>no</td>\n",
              "      <td>northwest</td>\n",
              "      <td>3866.86</td>\n",
              "    </tr>\n",
              "    <tr>\n",
              "      <th>...</th>\n",
              "      <td>...</td>\n",
              "      <td>...</td>\n",
              "      <td>...</td>\n",
              "      <td>...</td>\n",
              "      <td>...</td>\n",
              "      <td>...</td>\n",
              "      <td>...</td>\n",
              "    </tr>\n",
              "    <tr>\n",
              "      <th>1333</th>\n",
              "      <td>50</td>\n",
              "      <td>male</td>\n",
              "      <td>31.0</td>\n",
              "      <td>3</td>\n",
              "      <td>no</td>\n",
              "      <td>northwest</td>\n",
              "      <td>10600.55</td>\n",
              "    </tr>\n",
              "    <tr>\n",
              "      <th>1334</th>\n",
              "      <td>18</td>\n",
              "      <td>female</td>\n",
              "      <td>31.9</td>\n",
              "      <td>0</td>\n",
              "      <td>no</td>\n",
              "      <td>northeast</td>\n",
              "      <td>2205.98</td>\n",
              "    </tr>\n",
              "    <tr>\n",
              "      <th>1335</th>\n",
              "      <td>18</td>\n",
              "      <td>female</td>\n",
              "      <td>36.9</td>\n",
              "      <td>0</td>\n",
              "      <td>no</td>\n",
              "      <td>southeast</td>\n",
              "      <td>1629.83</td>\n",
              "    </tr>\n",
              "    <tr>\n",
              "      <th>1336</th>\n",
              "      <td>21</td>\n",
              "      <td>female</td>\n",
              "      <td>25.8</td>\n",
              "      <td>0</td>\n",
              "      <td>no</td>\n",
              "      <td>southwest</td>\n",
              "      <td>2007.95</td>\n",
              "    </tr>\n",
              "    <tr>\n",
              "      <th>1337</th>\n",
              "      <td>61</td>\n",
              "      <td>female</td>\n",
              "      <td>29.1</td>\n",
              "      <td>0</td>\n",
              "      <td>yes</td>\n",
              "      <td>northwest</td>\n",
              "      <td>29141.36</td>\n",
              "    </tr>\n",
              "  </tbody>\n",
              "</table>\n",
              "<p>1338 rows × 7 columns</p>\n",
              "</div>"
            ],
            "text/plain": [
              "      age     sex   bmi  children smoker     region  expenses\n",
              "0      19  female  27.9         0    yes  southwest  16884.92\n",
              "1      18    male  33.8         1     no  southeast   1725.55\n",
              "2      28    male  33.0         3     no  southeast   4449.46\n",
              "3      33    male  22.7         0     no  northwest  21984.47\n",
              "4      32    male  28.9         0     no  northwest   3866.86\n",
              "...   ...     ...   ...       ...    ...        ...       ...\n",
              "1333   50    male  31.0         3     no  northwest  10600.55\n",
              "1334   18  female  31.9         0     no  northeast   2205.98\n",
              "1335   18  female  36.9         0     no  southeast   1629.83\n",
              "1336   21  female  25.8         0     no  southwest   2007.95\n",
              "1337   61  female  29.1         0    yes  northwest  29141.36\n",
              "\n",
              "[1338 rows x 7 columns]"
            ]
          },
          "metadata": {
            "tags": []
          },
          "execution_count": 4
        }
      ]
    },
    {
      "cell_type": "code",
      "metadata": {
        "colab": {
          "base_uri": "https://localhost:8080/"
        },
        "id": "kDBvtG0bGOJL",
        "outputId": "433e2114-9247-4cb5-9e00-5a5bbfc9d724"
      },
      "source": [
        "eda_data.info()"
      ],
      "execution_count": 5,
      "outputs": [
        {
          "output_type": "stream",
          "text": [
            "<class 'pandas.core.frame.DataFrame'>\n",
            "RangeIndex: 1338 entries, 0 to 1337\n",
            "Data columns (total 7 columns):\n",
            " #   Column    Non-Null Count  Dtype  \n",
            "---  ------    --------------  -----  \n",
            " 0   age       1338 non-null   int64  \n",
            " 1   sex       1338 non-null   object \n",
            " 2   bmi       1338 non-null   float64\n",
            " 3   children  1338 non-null   int64  \n",
            " 4   smoker    1338 non-null   object \n",
            " 5   region    1338 non-null   object \n",
            " 6   expenses  1338 non-null   float64\n",
            "dtypes: float64(2), int64(2), object(3)\n",
            "memory usage: 73.3+ KB\n"
          ],
          "name": "stdout"
        }
      ]
    },
    {
      "cell_type": "markdown",
      "metadata": {
        "id": "LC2okCAGWzTR"
      },
      "source": [
        "This dataset gives information about different people including their healthcare costs. There are 1,338 instances and 7 attributes: **age**, **sex**, **bmi**, **children**, **smoker**, **region**, and **expenses** (healthcare costs).\n",
        "\n",
        "There are no missing values at each columns. So, it's good!\n",
        "\n",
        "Let's look at text attributes in this dataset."
      ]
    },
    {
      "cell_type": "code",
      "metadata": {
        "colab": {
          "base_uri": "https://localhost:8080/"
        },
        "id": "C6IEzo72GQdl",
        "outputId": "df21c8bc-ddb8-4717-f50b-fc407258943e"
      },
      "source": [
        "eda_data.sex.value_counts()"
      ],
      "execution_count": 6,
      "outputs": [
        {
          "output_type": "execute_result",
          "data": {
            "text/plain": [
              "male      676\n",
              "female    662\n",
              "Name: sex, dtype: int64"
            ]
          },
          "metadata": {
            "tags": []
          },
          "execution_count": 6
        }
      ]
    },
    {
      "cell_type": "code",
      "metadata": {
        "colab": {
          "base_uri": "https://localhost:8080/",
          "height": 175
        },
        "id": "Ef30wI4IIDW1",
        "outputId": "4a77bf0e-d748-4741-b713-9150fd6e3b95"
      },
      "source": [
        "fig = plt.figure(figsize=(5, 2))\n",
        "\n",
        "plt.barh((eda_data.sex.value_counts()).keys(), (eda_data.sex.value_counts()).values)"
      ],
      "execution_count": 7,
      "outputs": [
        {
          "output_type": "execute_result",
          "data": {
            "text/plain": [
              "<BarContainer object of 2 artists>"
            ]
          },
          "metadata": {
            "tags": []
          },
          "execution_count": 7
        },
        {
          "output_type": "display_data",
          "data": {
            "image/png": "[encoded data removed]",
            "text/plain": [
              "<Figure size 360x144 with 1 Axes>"
            ]
          },
          "metadata": {
            "tags": [],
            "needs_background": "light"
          }
        }
      ]
    },
    {
      "cell_type": "markdown",
      "metadata": {
        "id": "KUO8L954Yv4s"
      },
      "source": [
        "Among these people, there were 676 males and 662 females."
      ]
    },
    {
      "cell_type": "code",
      "metadata": {
        "colab": {
          "base_uri": "https://localhost:8080/"
        },
        "id": "_HT45aILIujv",
        "outputId": "02a3dd85-7105-4f99-a060-178cd1224ad6"
      },
      "source": [
        "eda_data.smoker.value_counts()"
      ],
      "execution_count": 8,
      "outputs": [
        {
          "output_type": "execute_result",
          "data": {
            "text/plain": [
              "no     1064\n",
              "yes     274\n",
              "Name: smoker, dtype: int64"
            ]
          },
          "metadata": {
            "tags": []
          },
          "execution_count": 8
        }
      ]
    },
    {
      "cell_type": "code",
      "metadata": {
        "colab": {
          "base_uri": "https://localhost:8080/",
          "height": 175
        },
        "id": "FzZipZ_8JDji",
        "outputId": "3fa00ea7-1220-4364-9510-f8896105285e"
      },
      "source": [
        "fig = plt.figure(figsize=(5, 2))\n",
        "\n",
        "plt.barh((eda_data.smoker.value_counts()).keys(), (eda_data.smoker.value_counts()).values)"
      ],
      "execution_count": 9,
      "outputs": [
        {
          "output_type": "execute_result",
          "data": {
            "text/plain": [
              "<BarContainer object of 2 artists>"
            ]
          },
          "metadata": {
            "tags": []
          },
          "execution_count": 9
        },
        {
          "output_type": "display_data",
          "data": {
            "image/png": "[encoded data removed]",
            "text/plain": [
              "<Figure size 360x144 with 1 Axes>"
            ]
          },
          "metadata": {
            "tags": [],
            "needs_background": "light"
          }
        }
      ]
    },
    {
      "cell_type": "markdown",
      "metadata": {
        "id": "MnNWB3S2ZmtH"
      },
      "source": [
        "and there were 1,064 non-smokers and 274 smokers."
      ]
    },
    {
      "cell_type": "code",
      "metadata": {
        "colab": {
          "base_uri": "https://localhost:8080/"
        },
        "id": "sw53wwWyJH88",
        "outputId": "0ab94bc6-74d7-4585-bdb0-7d61cadf8f4a"
      },
      "source": [
        "eda_data.region.value_counts()"
      ],
      "execution_count": 10,
      "outputs": [
        {
          "output_type": "execute_result",
          "data": {
            "text/plain": [
              "southeast    364\n",
              "northwest    325\n",
              "southwest    325\n",
              "northeast    324\n",
              "Name: region, dtype: int64"
            ]
          },
          "metadata": {
            "tags": []
          },
          "execution_count": 10
        }
      ]
    },
    {
      "cell_type": "code",
      "metadata": {
        "colab": {
          "base_uri": "https://localhost:8080/",
          "height": 337
        },
        "id": "WOnIwvB2UEXD",
        "outputId": "927d416b-6980-4e06-e221-90e1bf524273"
      },
      "source": [
        "fig = plt.figure(figsize=(5, 5))\n",
        "\n",
        "plt.barh((eda_data.region.value_counts()).keys(), (eda_data.region.value_counts()).values)"
      ],
      "execution_count": 11,
      "outputs": [
        {
          "output_type": "execute_result",
          "data": {
            "text/plain": [
              "<BarContainer object of 4 artists>"
            ]
          },
          "metadata": {
            "tags": []
          },
          "execution_count": 11
        },
        {
          "output_type": "display_data",
          "data": {
            "image/png": "[encoded data removed]",
            "text/plain": [
              "<Figure size 360x360 with 1 Axes>"
            ]
          },
          "metadata": {
            "tags": [],
            "needs_background": "light"
          }
        }
      ]
    },
    {
      "cell_type": "markdown",
      "metadata": {
        "id": "oFDtfveFaRww"
      },
      "source": [
        "and these people live from four different places. \n",
        "\n",
        "Next, let's look at a summary of the numerical attributes in this dataset."
      ]
    },
    {
      "cell_type": "code",
      "metadata": {
        "colab": {
          "base_uri": "https://localhost:8080/",
          "height": 294
        },
        "id": "DxYjhd7YJsZp",
        "outputId": "5d62c08c-3e63-4c39-ed80-4639e3367518"
      },
      "source": [
        "eda_data.describe()"
      ],
      "execution_count": 12,
      "outputs": [
        {
          "output_type": "execute_result",
          "data": {
            "text/html": [
              "<div>\n",
              "<style scoped>\n",
              "    .dataframe tbody tr th:only-of-type {\n",
              "        vertical-align: middle;\n",
              "    }\n",
              "\n",
              "    .dataframe tbody tr th {\n",
              "        vertical-align: top;\n",
              "    }\n",
              "\n",
              "    .dataframe thead th {\n",
              "        text-align: right;\n",
              "    }\n",
              "</style>\n",
              "<table border=\"1\" class=\"dataframe\">\n",
              "  <thead>\n",
              "    <tr style=\"text-align: right;\">\n",
              "      <th></th>\n",
              "      <th>age</th>\n",
              "      <th>bmi</th>\n",
              "      <th>children</th>\n",
              "      <th>expenses</th>\n",
              "    </tr>\n",
              "  </thead>\n",
              "  <tbody>\n",
              "    <tr>\n",
              "      <th>count</th>\n",
              "      <td>1338.000000</td>\n",
              "      <td>1338.000000</td>\n",
              "      <td>1338.000000</td>\n",
              "      <td>1338.000000</td>\n",
              "    </tr>\n",
              "    <tr>\n",
              "      <th>mean</th>\n",
              "      <td>39.207025</td>\n",
              "      <td>30.665471</td>\n",
              "      <td>1.094918</td>\n",
              "      <td>13270.422414</td>\n",
              "    </tr>\n",
              "    <tr>\n",
              "      <th>std</th>\n",
              "      <td>14.049960</td>\n",
              "      <td>6.098382</td>\n",
              "      <td>1.205493</td>\n",
              "      <td>12110.011240</td>\n",
              "    </tr>\n",
              "    <tr>\n",
              "      <th>min</th>\n",
              "      <td>18.000000</td>\n",
              "      <td>16.000000</td>\n",
              "      <td>0.000000</td>\n",
              "      <td>1121.870000</td>\n",
              "    </tr>\n",
              "    <tr>\n",
              "      <th>25%</th>\n",
              "      <td>27.000000</td>\n",
              "      <td>26.300000</td>\n",
              "      <td>0.000000</td>\n",
              "      <td>4740.287500</td>\n",
              "    </tr>\n",
              "    <tr>\n",
              "      <th>50%</th>\n",
              "      <td>39.000000</td>\n",
              "      <td>30.400000</td>\n",
              "      <td>1.000000</td>\n",
              "      <td>9382.030000</td>\n",
              "    </tr>\n",
              "    <tr>\n",
              "      <th>75%</th>\n",
              "      <td>51.000000</td>\n",
              "      <td>34.700000</td>\n",
              "      <td>2.000000</td>\n",
              "      <td>16639.915000</td>\n",
              "    </tr>\n",
              "    <tr>\n",
              "      <th>max</th>\n",
              "      <td>64.000000</td>\n",
              "      <td>53.100000</td>\n",
              "      <td>5.000000</td>\n",
              "      <td>63770.430000</td>\n",
              "    </tr>\n",
              "  </tbody>\n",
              "</table>\n",
              "</div>"
            ],
            "text/plain": [
              "               age          bmi     children      expenses\n",
              "count  1338.000000  1338.000000  1338.000000   1338.000000\n",
              "mean     39.207025    30.665471     1.094918  13270.422414\n",
              "std      14.049960     6.098382     1.205493  12110.011240\n",
              "min      18.000000    16.000000     0.000000   1121.870000\n",
              "25%      27.000000    26.300000     0.000000   4740.287500\n",
              "50%      39.000000    30.400000     1.000000   9382.030000\n",
              "75%      51.000000    34.700000     2.000000  16639.915000\n",
              "max      64.000000    53.100000     5.000000  63770.430000"
            ]
          },
          "metadata": {
            "tags": []
          },
          "execution_count": 12
        }
      ]
    },
    {
      "cell_type": "markdown",
      "metadata": {
        "id": "q4jR6PYYdfTK"
      },
      "source": [
        "To get a feel of the type of data I'm dealing with, I'll plot a histogram for each numerical attribute."
      ]
    },
    {
      "cell_type": "code",
      "metadata": {
        "colab": {
          "base_uri": "https://localhost:8080/",
          "height": 595
        },
        "id": "6kO4t4uSKBSH",
        "outputId": "ca487c74-045e-4c4a-f655-89d063dbf617"
      },
      "source": [
        "eda_data.hist(figsize = (15, 10))\n",
        "plt.show()"
      ],
      "execution_count": 13,
      "outputs": [
        {
          "output_type": "display_data",
          "data": {
            "image/png": "[encoded data removed]",
            "text/plain": [
              "<Figure size 1080x720 with 4 Axes>"
            ]
          },
          "metadata": {
            "tags": [],
            "needs_background": "light"
          }
        }
      ]
    },
    {
      "cell_type": "markdown",
      "metadata": {
        "id": "lEtHCwZFew8K"
      },
      "source": [
        "Now let’s look at how much each attribute correlates with the healthcare costs."
      ]
    },
    {
      "cell_type": "code",
      "metadata": {
        "id": "U44geYSLKI-j"
      },
      "source": [
        "corr_matrix = eda_data.corr()"
      ],
      "execution_count": 14,
      "outputs": []
    },
    {
      "cell_type": "code",
      "metadata": {
        "colab": {
          "base_uri": "https://localhost:8080/"
        },
        "id": "S_LRQeSsKVx6",
        "outputId": "80790c62-65e3-4a60-b38f-2d6b9885a8c6"
      },
      "source": [
        "corr_matrix.expenses.sort_values(ascending = False)"
      ],
      "execution_count": 15,
      "outputs": [
        {
          "output_type": "execute_result",
          "data": {
            "text/plain": [
              "expenses    1.000000\n",
              "age         0.299008\n",
              "bmi         0.198576\n",
              "children    0.067998\n",
              "Name: expenses, dtype: float64"
            ]
          },
          "metadata": {
            "tags": []
          },
          "execution_count": 15
        }
      ]
    },
    {
      "cell_type": "markdown",
      "metadata": {
        "id": "GvYqIJ75fEjc"
      },
      "source": [
        "It seems age attribute (people age) has the strongest positive correlation with expenses attribute (the healthcare costs) compared to other numerical attributes. \n",
        "\n",
        "How about with the text attributes? Let's convert all of text attribute values into numerical values to represent their values, except region attribute because it can't be represent like that."
      ]
    },
    {
      "cell_type": "code",
      "metadata": {
        "colab": {
          "base_uri": "https://localhost:8080/",
          "height": 415
        },
        "id": "Osve3n9uKYEQ",
        "outputId": "c61027fd-9e61-4392-9b09-c355ba1d1b51"
      },
      "source": [
        "eda_data[\"sex\"] = eda_data[\"sex\"].map({\"male\": 1, \"female\": 0})\n",
        "eda_data[\"smoker\"] = eda_data[\"smoker\"].map({\"yes\": 1, \"no\": 0})\n",
        "eda_data"
      ],
      "execution_count": 16,
      "outputs": [
        {
          "output_type": "execute_result",
          "data": {
            "text/html": [
              "<div>\n",
              "<style scoped>\n",
              "    .dataframe tbody tr th:only-of-type {\n",
              "        vertical-align: middle;\n",
              "    }\n",
              "\n",
              "    .dataframe tbody tr th {\n",
              "        vertical-align: top;\n",
              "    }\n",
              "\n",
              "    .dataframe thead th {\n",
              "        text-align: right;\n",
              "    }\n",
              "</style>\n",
              "<table border=\"1\" class=\"dataframe\">\n",
              "  <thead>\n",
              "    <tr style=\"text-align: right;\">\n",
              "      <th></th>\n",
              "      <th>age</th>\n",
              "      <th>sex</th>\n",
              "      <th>bmi</th>\n",
              "      <th>children</th>\n",
              "      <th>smoker</th>\n",
              "      <th>region</th>\n",
              "      <th>expenses</th>\n",
              "    </tr>\n",
              "  </thead>\n",
              "  <tbody>\n",
              "    <tr>\n",
              "      <th>0</th>\n",
              "      <td>19</td>\n",
              "      <td>0</td>\n",
              "      <td>27.9</td>\n",
              "      <td>0</td>\n",
              "      <td>1</td>\n",
              "      <td>southwest</td>\n",
              "      <td>16884.92</td>\n",
              "    </tr>\n",
              "    <tr>\n",
              "      <th>1</th>\n",
              "      <td>18</td>\n",
              "      <td>1</td>\n",
              "      <td>33.8</td>\n",
              "      <td>1</td>\n",
              "      <td>0</td>\n",
              "      <td>southeast</td>\n",
              "      <td>1725.55</td>\n",
              "    </tr>\n",
              "    <tr>\n",
              "      <th>2</th>\n",
              "      <td>28</td>\n",
              "      <td>1</td>\n",
              "      <td>33.0</td>\n",
              "      <td>3</td>\n",
              "      <td>0</td>\n",
              "      <td>southeast</td>\n",
              "      <td>4449.46</td>\n",
              "    </tr>\n",
              "    <tr>\n",
              "      <th>3</th>\n",
              "      <td>33</td>\n",
              "      <td>1</td>\n",
              "      <td>22.7</td>\n",
              "      <td>0</td>\n",
              "      <td>0</td>\n",
              "      <td>northwest</td>\n",
              "      <td>21984.47</td>\n",
              "    </tr>\n",
              "    <tr>\n",
              "      <th>4</th>\n",
              "      <td>32</td>\n",
              "      <td>1</td>\n",
              "      <td>28.9</td>\n",
              "      <td>0</td>\n",
              "      <td>0</td>\n",
              "      <td>northwest</td>\n",
              "      <td>3866.86</td>\n",
              "    </tr>\n",
              "    <tr>\n",
              "      <th>...</th>\n",
              "      <td>...</td>\n",
              "      <td>...</td>\n",
              "      <td>...</td>\n",
              "      <td>...</td>\n",
              "      <td>...</td>\n",
              "      <td>...</td>\n",
              "      <td>...</td>\n",
              "    </tr>\n",
              "    <tr>\n",
              "      <th>1333</th>\n",
              "      <td>50</td>\n",
              "      <td>1</td>\n",
              "      <td>31.0</td>\n",
              "      <td>3</td>\n",
              "      <td>0</td>\n",
              "      <td>northwest</td>\n",
              "      <td>10600.55</td>\n",
              "    </tr>\n",
              "    <tr>\n",
              "      <th>1334</th>\n",
              "      <td>18</td>\n",
              "      <td>0</td>\n",
              "      <td>31.9</td>\n",
              "      <td>0</td>\n",
              "      <td>0</td>\n",
              "      <td>northeast</td>\n",
              "      <td>2205.98</td>\n",
              "    </tr>\n",
              "    <tr>\n",
              "      <th>1335</th>\n",
              "      <td>18</td>\n",
              "      <td>0</td>\n",
              "      <td>36.9</td>\n",
              "      <td>0</td>\n",
              "      <td>0</td>\n",
              "      <td>southeast</td>\n",
              "      <td>1629.83</td>\n",
              "    </tr>\n",
              "    <tr>\n",
              "      <th>1336</th>\n",
              "      <td>21</td>\n",
              "      <td>0</td>\n",
              "      <td>25.8</td>\n",
              "      <td>0</td>\n",
              "      <td>0</td>\n",
              "      <td>southwest</td>\n",
              "      <td>2007.95</td>\n",
              "    </tr>\n",
              "    <tr>\n",
              "      <th>1337</th>\n",
              "      <td>61</td>\n",
              "      <td>0</td>\n",
              "      <td>29.1</td>\n",
              "      <td>0</td>\n",
              "      <td>1</td>\n",
              "      <td>northwest</td>\n",
              "      <td>29141.36</td>\n",
              "    </tr>\n",
              "  </tbody>\n",
              "</table>\n",
              "<p>1338 rows × 7 columns</p>\n",
              "</div>"
            ],
            "text/plain": [
              "      age  sex   bmi  children  smoker     region  expenses\n",
              "0      19    0  27.9         0       1  southwest  16884.92\n",
              "1      18    1  33.8         1       0  southeast   1725.55\n",
              "2      28    1  33.0         3       0  southeast   4449.46\n",
              "3      33    1  22.7         0       0  northwest  21984.47\n",
              "4      32    1  28.9         0       0  northwest   3866.86\n",
              "...   ...  ...   ...       ...     ...        ...       ...\n",
              "1333   50    1  31.0         3       0  northwest  10600.55\n",
              "1334   18    0  31.9         0       0  northeast   2205.98\n",
              "1335   18    0  36.9         0       0  southeast   1629.83\n",
              "1336   21    0  25.8         0       0  southwest   2007.95\n",
              "1337   61    0  29.1         0       1  northwest  29141.36\n",
              "\n",
              "[1338 rows x 7 columns]"
            ]
          },
          "metadata": {
            "tags": []
          },
          "execution_count": 16
        }
      ]
    },
    {
      "cell_type": "markdown",
      "metadata": {
        "id": "v6-N0SZzjVYT"
      },
      "source": [
        "Now let’s look at again how much each attribute (including the text attributes) correlates with the healthcare costs."
      ]
    },
    {
      "cell_type": "code",
      "metadata": {
        "colab": {
          "base_uri": "https://localhost:8080/"
        },
        "id": "pSD8GEybKkor",
        "outputId": "a5f6d9c1-6dd7-40f6-92ba-da8a8ae55595"
      },
      "source": [
        "corr_matrix = eda_data.corr()\n",
        "corr_matrix.expenses.sort_values(ascending = False)"
      ],
      "execution_count": 17,
      "outputs": [
        {
          "output_type": "execute_result",
          "data": {
            "text/plain": [
              "expenses    1.000000\n",
              "smoker      0.787251\n",
              "age         0.299008\n",
              "bmi         0.198576\n",
              "children    0.067998\n",
              "sex         0.057292\n",
              "Name: expenses, dtype: float64"
            ]
          },
          "metadata": {
            "tags": []
          },
          "execution_count": 17
        }
      ]
    },
    {
      "cell_type": "markdown",
      "metadata": {
        "id": "bEHcWLwVkGpn"
      },
      "source": [
        "It turns out, smoker attribute has the strongest positive correlation with expenses attribute (the healthcare costs) compared to other attributes.\n",
        "\n",
        "For now, I knew the most promising attribute to predict the healthcare costs is smoker. \n",
        "\n",
        "I can bet a person that has the highest healthcare costs in this dataset it must be smoker and a person that has the lowest healthcare costs in this dataset it must be non-smoker. Let's see to prove it, haha."
      ]
    },
    {
      "cell_type": "code",
      "metadata": {
        "colab": {
          "base_uri": "https://localhost:8080/",
          "height": 79
        },
        "id": "eCdNVM3BKpsP",
        "outputId": "46095d40-6aba-4054-dadb-a92e3b67e524"
      },
      "source": [
        "eda_data[eda_data.expenses == eda_data.expenses.max()]"
      ],
      "execution_count": 18,
      "outputs": [
        {
          "output_type": "execute_result",
          "data": {
            "text/html": [
              "<div>\n",
              "<style scoped>\n",
              "    .dataframe tbody tr th:only-of-type {\n",
              "        vertical-align: middle;\n",
              "    }\n",
              "\n",
              "    .dataframe tbody tr th {\n",
              "        vertical-align: top;\n",
              "    }\n",
              "\n",
              "    .dataframe thead th {\n",
              "        text-align: right;\n",
              "    }\n",
              "</style>\n",
              "<table border=\"1\" class=\"dataframe\">\n",
              "  <thead>\n",
              "    <tr style=\"text-align: right;\">\n",
              "      <th></th>\n",
              "      <th>age</th>\n",
              "      <th>sex</th>\n",
              "      <th>bmi</th>\n",
              "      <th>children</th>\n",
              "      <th>smoker</th>\n",
              "      <th>region</th>\n",
              "      <th>expenses</th>\n",
              "    </tr>\n",
              "  </thead>\n",
              "  <tbody>\n",
              "    <tr>\n",
              "      <th>543</th>\n",
              "      <td>54</td>\n",
              "      <td>0</td>\n",
              "      <td>47.4</td>\n",
              "      <td>0</td>\n",
              "      <td>1</td>\n",
              "      <td>southeast</td>\n",
              "      <td>63770.43</td>\n",
              "    </tr>\n",
              "  </tbody>\n",
              "</table>\n",
              "</div>"
            ],
            "text/plain": [
              "     age  sex   bmi  children  smoker     region  expenses\n",
              "543   54    0  47.4         0       1  southeast  63770.43"
            ]
          },
          "metadata": {
            "tags": []
          },
          "execution_count": 18
        }
      ]
    },
    {
      "cell_type": "code",
      "metadata": {
        "colab": {
          "base_uri": "https://localhost:8080/",
          "height": 79
        },
        "id": "dfZoWNJsKyX-",
        "outputId": "9be09b0c-96cb-42ad-b8b7-605f0267b0ad"
      },
      "source": [
        "eda_data[eda_data.expenses == eda_data.expenses.min()]"
      ],
      "execution_count": 19,
      "outputs": [
        {
          "output_type": "execute_result",
          "data": {
            "text/html": [
              "<div>\n",
              "<style scoped>\n",
              "    .dataframe tbody tr th:only-of-type {\n",
              "        vertical-align: middle;\n",
              "    }\n",
              "\n",
              "    .dataframe tbody tr th {\n",
              "        vertical-align: top;\n",
              "    }\n",
              "\n",
              "    .dataframe thead th {\n",
              "        text-align: right;\n",
              "    }\n",
              "</style>\n",
              "<table border=\"1\" class=\"dataframe\">\n",
              "  <thead>\n",
              "    <tr style=\"text-align: right;\">\n",
              "      <th></th>\n",
              "      <th>age</th>\n",
              "      <th>sex</th>\n",
              "      <th>bmi</th>\n",
              "      <th>children</th>\n",
              "      <th>smoker</th>\n",
              "      <th>region</th>\n",
              "      <th>expenses</th>\n",
              "    </tr>\n",
              "  </thead>\n",
              "  <tbody>\n",
              "    <tr>\n",
              "      <th>940</th>\n",
              "      <td>18</td>\n",
              "      <td>1</td>\n",
              "      <td>23.2</td>\n",
              "      <td>0</td>\n",
              "      <td>0</td>\n",
              "      <td>southeast</td>\n",
              "      <td>1121.87</td>\n",
              "    </tr>\n",
              "  </tbody>\n",
              "</table>\n",
              "</div>"
            ],
            "text/plain": [
              "     age  sex   bmi  children  smoker     region  expenses\n",
              "940   18    1  23.2         0       0  southeast   1121.87"
            ]
          },
          "metadata": {
            "tags": []
          },
          "execution_count": 19
        }
      ]
    },
    {
      "cell_type": "markdown",
      "metadata": {
        "id": "l0Jt4iRWmVga"
      },
      "source": [
        "That must be true, right? definitely haha."
      ]
    },
    {
      "cell_type": "markdown",
      "metadata": {
        "id": "SxAQcS-cn1Oa"
      },
      "source": [
        "### Split the Data"
      ]
    },
    {
      "cell_type": "markdown",
      "metadata": {
        "id": "5cAzmBb2m---"
      },
      "source": [
        "Now, let's create a test set, put it aside, and never look at it. Because this dataset is not large enough, it will run the risk of introducing a significant sampling bias if I use random sampling methods to split the train and test set.\n",
        "\n",
        "Due to I knew that smoker is a very important attribute to predict healthcare costs, I want to ensure that the test set is representative of the  various categories of smokers and non-smokers in the whole dataset. \n",
        "\n",
        "In this challenge, I will use 80% of the data as the `train_dataset` and 20% of the data as the `test_dataset`.\n",
        "\n",
        "Let's do stratified sampling based on the smoker category."
      ]
    },
    {
      "cell_type": "code",
      "metadata": {
        "id": "6C_RJEZ7K9t8"
      },
      "source": [
        "from sklearn.model_selection import StratifiedShuffleSplit\n",
        "\n",
        "split = StratifiedShuffleSplit(n_splits = 1, test_size = 0.2, random_state = 42)\n",
        "for train_index, test_index in split.split(dataset, dataset[\"smoker\"]):\n",
        "  strat_train_set = dataset.loc[train_index]\n",
        "  strat_test_set = dataset.loc[test_index]"
      ],
      "execution_count": 20,
      "outputs": []
    },
    {
      "cell_type": "markdown",
      "metadata": {
        "id": "9pTi5qPj2kBq"
      },
      "source": [
        "Let’s see if this worked as expected."
      ]
    },
    {
      "cell_type": "code",
      "metadata": {
        "colab": {
          "base_uri": "https://localhost:8080/"
        },
        "id": "31VlNeNaLyhP",
        "outputId": "718c4630-d58f-4f62-cc5b-836f288f0fea"
      },
      "source": [
        "strat_test_set.smoker.value_counts()"
      ],
      "execution_count": 21,
      "outputs": [
        {
          "output_type": "execute_result",
          "data": {
            "text/plain": [
              "no     213\n",
              "yes     55\n",
              "Name: smoker, dtype: int64"
            ]
          },
          "metadata": {
            "tags": []
          },
          "execution_count": 21
        }
      ]
    },
    {
      "cell_type": "code",
      "metadata": {
        "colab": {
          "base_uri": "https://localhost:8080/"
        },
        "id": "NnsGVeW_L0tZ",
        "outputId": "a6b70b0e-bed1-4e03-ee89-10c759001d8e"
      },
      "source": [
        "strat_test_set.smoker.value_counts() / len(strat_test_set)"
      ],
      "execution_count": 22,
      "outputs": [
        {
          "output_type": "execute_result",
          "data": {
            "text/plain": [
              "no     0.794776\n",
              "yes    0.205224\n",
              "Name: smoker, dtype: float64"
            ]
          },
          "metadata": {
            "tags": []
          },
          "execution_count": 22
        }
      ]
    },
    {
      "cell_type": "code",
      "metadata": {
        "colab": {
          "base_uri": "https://localhost:8080/"
        },
        "id": "jQIpDyG2L3Gu",
        "outputId": "6a4ae042-4a06-4155-ec00-002f58110d92"
      },
      "source": [
        "strat_train_set.smoker.value_counts()"
      ],
      "execution_count": 23,
      "outputs": [
        {
          "output_type": "execute_result",
          "data": {
            "text/plain": [
              "no     851\n",
              "yes    219\n",
              "Name: smoker, dtype: int64"
            ]
          },
          "metadata": {
            "tags": []
          },
          "execution_count": 23
        }
      ]
    },
    {
      "cell_type": "code",
      "metadata": {
        "colab": {
          "base_uri": "https://localhost:8080/"
        },
        "id": "ftmOHsyvL4zZ",
        "outputId": "4397ecf2-6a38-41f0-b1dd-8cb29a07a1cf"
      },
      "source": [
        "strat_train_set.smoker.value_counts() / len(strat_train_set)"
      ],
      "execution_count": 24,
      "outputs": [
        {
          "output_type": "execute_result",
          "data": {
            "text/plain": [
              "no     0.795327\n",
              "yes    0.204673\n",
              "Name: smoker, dtype: float64"
            ]
          },
          "metadata": {
            "tags": []
          },
          "execution_count": 24
        }
      ]
    },
    {
      "cell_type": "code",
      "metadata": {
        "colab": {
          "base_uri": "https://localhost:8080/"
        },
        "id": "wA3UaD-AL9Km",
        "outputId": "24a8c2e2-0910-49f4-baf1-33a513512a5c"
      },
      "source": [
        "dataset.smoker.value_counts()"
      ],
      "execution_count": 25,
      "outputs": [
        {
          "output_type": "execute_result",
          "data": {
            "text/plain": [
              "no     1064\n",
              "yes     274\n",
              "Name: smoker, dtype: int64"
            ]
          },
          "metadata": {
            "tags": []
          },
          "execution_count": 25
        }
      ]
    },
    {
      "cell_type": "code",
      "metadata": {
        "colab": {
          "base_uri": "https://localhost:8080/"
        },
        "id": "h_6kSDhuMBAn",
        "outputId": "9f3ab0b9-ba41-4514-812d-ab47975f6193"
      },
      "source": [
        "dataset.smoker.value_counts() / len(dataset)"
      ],
      "execution_count": 26,
      "outputs": [
        {
          "output_type": "execute_result",
          "data": {
            "text/plain": [
              "no     0.795217\n",
              "yes    0.204783\n",
              "Name: smoker, dtype: float64"
            ]
          },
          "metadata": {
            "tags": []
          },
          "execution_count": 26
        }
      ]
    },
    {
      "cell_type": "markdown",
      "metadata": {
        "id": "3I-R2-C92tZt"
      },
      "source": [
        "It's worked as expected. The test set generated using stratified sampling has smoker category proportions almost identical to those in the full dataset and train set.\n",
        "\n",
        "Let's take a quick look at a train set."
      ]
    },
    {
      "cell_type": "code",
      "metadata": {
        "colab": {
          "base_uri": "https://localhost:8080/",
          "height": 415
        },
        "id": "z5cByOG2MChH",
        "outputId": "0d97e112-9050-43f0-947e-82d508a314a8"
      },
      "source": [
        "strat_train_set"
      ],
      "execution_count": 27,
      "outputs": [
        {
          "output_type": "execute_result",
          "data": {
            "text/html": [
              "<div>\n",
              "<style scoped>\n",
              "    .dataframe tbody tr th:only-of-type {\n",
              "        vertical-align: middle;\n",
              "    }\n",
              "\n",
              "    .dataframe tbody tr th {\n",
              "        vertical-align: top;\n",
              "    }\n",
              "\n",
              "    .dataframe thead th {\n",
              "        text-align: right;\n",
              "    }\n",
              "</style>\n",
              "<table border=\"1\" class=\"dataframe\">\n",
              "  <thead>\n",
              "    <tr style=\"text-align: right;\">\n",
              "      <th></th>\n",
              "      <th>age</th>\n",
              "      <th>sex</th>\n",
              "      <th>bmi</th>\n",
              "      <th>children</th>\n",
              "      <th>smoker</th>\n",
              "      <th>region</th>\n",
              "      <th>expenses</th>\n",
              "    </tr>\n",
              "  </thead>\n",
              "  <tbody>\n",
              "    <tr>\n",
              "      <th>294</th>\n",
              "      <td>25</td>\n",
              "      <td>male</td>\n",
              "      <td>26.8</td>\n",
              "      <td>3</td>\n",
              "      <td>no</td>\n",
              "      <td>southwest</td>\n",
              "      <td>3906.13</td>\n",
              "    </tr>\n",
              "    <tr>\n",
              "      <th>179</th>\n",
              "      <td>41</td>\n",
              "      <td>female</td>\n",
              "      <td>33.2</td>\n",
              "      <td>3</td>\n",
              "      <td>no</td>\n",
              "      <td>northeast</td>\n",
              "      <td>8538.29</td>\n",
              "    </tr>\n",
              "    <tr>\n",
              "      <th>1335</th>\n",
              "      <td>18</td>\n",
              "      <td>female</td>\n",
              "      <td>36.9</td>\n",
              "      <td>0</td>\n",
              "      <td>no</td>\n",
              "      <td>southeast</td>\n",
              "      <td>1629.83</td>\n",
              "    </tr>\n",
              "    <tr>\n",
              "      <th>634</th>\n",
              "      <td>51</td>\n",
              "      <td>male</td>\n",
              "      <td>39.7</td>\n",
              "      <td>1</td>\n",
              "      <td>no</td>\n",
              "      <td>southwest</td>\n",
              "      <td>9391.35</td>\n",
              "    </tr>\n",
              "    <tr>\n",
              "      <th>67</th>\n",
              "      <td>40</td>\n",
              "      <td>male</td>\n",
              "      <td>26.3</td>\n",
              "      <td>1</td>\n",
              "      <td>no</td>\n",
              "      <td>northwest</td>\n",
              "      <td>6389.38</td>\n",
              "    </tr>\n",
              "    <tr>\n",
              "      <th>...</th>\n",
              "      <td>...</td>\n",
              "      <td>...</td>\n",
              "      <td>...</td>\n",
              "      <td>...</td>\n",
              "      <td>...</td>\n",
              "      <td>...</td>\n",
              "      <td>...</td>\n",
              "    </tr>\n",
              "    <tr>\n",
              "      <th>627</th>\n",
              "      <td>33</td>\n",
              "      <td>male</td>\n",
              "      <td>42.5</td>\n",
              "      <td>1</td>\n",
              "      <td>no</td>\n",
              "      <td>southeast</td>\n",
              "      <td>11326.71</td>\n",
              "    </tr>\n",
              "    <tr>\n",
              "      <th>76</th>\n",
              "      <td>29</td>\n",
              "      <td>female</td>\n",
              "      <td>29.6</td>\n",
              "      <td>1</td>\n",
              "      <td>no</td>\n",
              "      <td>southeast</td>\n",
              "      <td>3947.41</td>\n",
              "    </tr>\n",
              "    <tr>\n",
              "      <th>319</th>\n",
              "      <td>32</td>\n",
              "      <td>male</td>\n",
              "      <td>37.3</td>\n",
              "      <td>1</td>\n",
              "      <td>no</td>\n",
              "      <td>northeast</td>\n",
              "      <td>4667.61</td>\n",
              "    </tr>\n",
              "    <tr>\n",
              "      <th>197</th>\n",
              "      <td>45</td>\n",
              "      <td>female</td>\n",
              "      <td>28.6</td>\n",
              "      <td>2</td>\n",
              "      <td>no</td>\n",
              "      <td>southeast</td>\n",
              "      <td>8516.83</td>\n",
              "    </tr>\n",
              "    <tr>\n",
              "      <th>1147</th>\n",
              "      <td>20</td>\n",
              "      <td>female</td>\n",
              "      <td>31.9</td>\n",
              "      <td>0</td>\n",
              "      <td>no</td>\n",
              "      <td>northwest</td>\n",
              "      <td>2261.57</td>\n",
              "    </tr>\n",
              "  </tbody>\n",
              "</table>\n",
              "<p>1070 rows × 7 columns</p>\n",
              "</div>"
            ],
            "text/plain": [
              "      age     sex   bmi  children smoker     region  expenses\n",
              "294    25    male  26.8         3     no  southwest   3906.13\n",
              "179    41  female  33.2         3     no  northeast   8538.29\n",
              "1335   18  female  36.9         0     no  southeast   1629.83\n",
              "634    51    male  39.7         1     no  southwest   9391.35\n",
              "67     40    male  26.3         1     no  northwest   6389.38\n",
              "...   ...     ...   ...       ...    ...        ...       ...\n",
              "627    33    male  42.5         1     no  southeast  11326.71\n",
              "76     29  female  29.6         1     no  southeast   3947.41\n",
              "319    32    male  37.3         1     no  northeast   4667.61\n",
              "197    45  female  28.6         2     no  southeast   8516.83\n",
              "1147   20  female  31.9         0     no  northwest   2261.57\n",
              "\n",
              "[1070 rows x 7 columns]"
            ]
          },
          "metadata": {
            "tags": []
          },
          "execution_count": 27
        }
      ]
    },
    {
      "cell_type": "code",
      "metadata": {
        "colab": {
          "base_uri": "https://localhost:8080/"
        },
        "id": "ZYUQDOn6MMzL",
        "outputId": "40c2f442-3c7e-45cb-9d12-8e005ed4a11d"
      },
      "source": [
        "strat_train_set.info()"
      ],
      "execution_count": 28,
      "outputs": [
        {
          "output_type": "stream",
          "text": [
            "<class 'pandas.core.frame.DataFrame'>\n",
            "Int64Index: 1070 entries, 294 to 1147\n",
            "Data columns (total 7 columns):\n",
            " #   Column    Non-Null Count  Dtype  \n",
            "---  ------    --------------  -----  \n",
            " 0   age       1070 non-null   int64  \n",
            " 1   sex       1070 non-null   object \n",
            " 2   bmi       1070 non-null   float64\n",
            " 3   children  1070 non-null   int64  \n",
            " 4   smoker    1070 non-null   object \n",
            " 5   region    1070 non-null   object \n",
            " 6   expenses  1070 non-null   float64\n",
            "dtypes: float64(2), int64(2), object(3)\n",
            "memory usage: 66.9+ KB\n"
          ],
          "name": "stdout"
        }
      ]
    },
    {
      "cell_type": "markdown",
      "metadata": {
        "id": "Jh_Zlb7V9b9S"
      },
      "source": [
        "There are still no missing values at each columns. Perfect!"
      ]
    },
    {
      "cell_type": "markdown",
      "metadata": {
        "id": "fXvu7UkX4Jo4"
      },
      "source": [
        "## Prepare the Data"
      ]
    },
    {
      "cell_type": "markdown",
      "metadata": {
        "id": "7oCvEclF4y_K"
      },
      "source": [
        "I will `pop` off the \"expenses\" column from train set and test set to separate the predictors and the labels, since we don’t necessarily want to apply the same transformations to the predictors and the target values."
      ]
    },
    {
      "cell_type": "code",
      "metadata": {
        "id": "ccqBFXJJMQdh"
      },
      "source": [
        "train_labels = strat_train_set.pop(\"expenses\")\n",
        "test_labels = strat_test_set.pop(\"expenses\")"
      ],
      "execution_count": 29,
      "outputs": []
    },
    {
      "cell_type": "markdown",
      "metadata": {
        "id": "G3Yotgfr8Px9"
      },
      "source": [
        "Let’s see if this worked as expected."
      ]
    },
    {
      "cell_type": "code",
      "metadata": {
        "colab": {
          "base_uri": "https://localhost:8080/",
          "height": 415
        },
        "id": "4Z5dDNSgMWwH",
        "outputId": "7441ea2e-69a8-4fa3-b548-c2f06448f9e9"
      },
      "source": [
        "strat_train_set"
      ],
      "execution_count": 30,
      "outputs": [
        {
          "output_type": "execute_result",
          "data": {
            "text/html": [
              "<div>\n",
              "<style scoped>\n",
              "    .dataframe tbody tr th:only-of-type {\n",
              "        vertical-align: middle;\n",
              "    }\n",
              "\n",
              "    .dataframe tbody tr th {\n",
              "        vertical-align: top;\n",
              "    }\n",
              "\n",
              "    .dataframe thead th {\n",
              "        text-align: right;\n",
              "    }\n",
              "</style>\n",
              "<table border=\"1\" class=\"dataframe\">\n",
              "  <thead>\n",
              "    <tr style=\"text-align: right;\">\n",
              "      <th></th>\n",
              "      <th>age</th>\n",
              "      <th>sex</th>\n",
              "      <th>bmi</th>\n",
              "      <th>children</th>\n",
              "      <th>smoker</th>\n",
              "      <th>region</th>\n",
              "    </tr>\n",
              "  </thead>\n",
              "  <tbody>\n",
              "    <tr>\n",
              "      <th>294</th>\n",
              "      <td>25</td>\n",
              "      <td>male</td>\n",
              "      <td>26.8</td>\n",
              "      <td>3</td>\n",
              "      <td>no</td>\n",
              "      <td>southwest</td>\n",
              "    </tr>\n",
              "    <tr>\n",
              "      <th>179</th>\n",
              "      <td>41</td>\n",
              "      <td>female</td>\n",
              "      <td>33.2</td>\n",
              "      <td>3</td>\n",
              "      <td>no</td>\n",
              "      <td>northeast</td>\n",
              "    </tr>\n",
              "    <tr>\n",
              "      <th>1335</th>\n",
              "      <td>18</td>\n",
              "      <td>female</td>\n",
              "      <td>36.9</td>\n",
              "      <td>0</td>\n",
              "      <td>no</td>\n",
              "      <td>southeast</td>\n",
              "    </tr>\n",
              "    <tr>\n",
              "      <th>634</th>\n",
              "      <td>51</td>\n",
              "      <td>male</td>\n",
              "      <td>39.7</td>\n",
              "      <td>1</td>\n",
              "      <td>no</td>\n",
              "      <td>southwest</td>\n",
              "    </tr>\n",
              "    <tr>\n",
              "      <th>67</th>\n",
              "      <td>40</td>\n",
              "      <td>male</td>\n",
              "      <td>26.3</td>\n",
              "      <td>1</td>\n",
              "      <td>no</td>\n",
              "      <td>northwest</td>\n",
              "    </tr>\n",
              "    <tr>\n",
              "      <th>...</th>\n",
              "      <td>...</td>\n",
              "      <td>...</td>\n",
              "      <td>...</td>\n",
              "      <td>...</td>\n",
              "      <td>...</td>\n",
              "      <td>...</td>\n",
              "    </tr>\n",
              "    <tr>\n",
              "      <th>627</th>\n",
              "      <td>33</td>\n",
              "      <td>male</td>\n",
              "      <td>42.5</td>\n",
              "      <td>1</td>\n",
              "      <td>no</td>\n",
              "      <td>southeast</td>\n",
              "    </tr>\n",
              "    <tr>\n",
              "      <th>76</th>\n",
              "      <td>29</td>\n",
              "      <td>female</td>\n",
              "      <td>29.6</td>\n",
              "      <td>1</td>\n",
              "      <td>no</td>\n",
              "      <td>southeast</td>\n",
              "    </tr>\n",
              "    <tr>\n",
              "      <th>319</th>\n",
              "      <td>32</td>\n",
              "      <td>male</td>\n",
              "      <td>37.3</td>\n",
              "      <td>1</td>\n",
              "      <td>no</td>\n",
              "      <td>northeast</td>\n",
              "    </tr>\n",
              "    <tr>\n",
              "      <th>197</th>\n",
              "      <td>45</td>\n",
              "      <td>female</td>\n",
              "      <td>28.6</td>\n",
              "      <td>2</td>\n",
              "      <td>no</td>\n",
              "      <td>southeast</td>\n",
              "    </tr>\n",
              "    <tr>\n",
              "      <th>1147</th>\n",
              "      <td>20</td>\n",
              "      <td>female</td>\n",
              "      <td>31.9</td>\n",
              "      <td>0</td>\n",
              "      <td>no</td>\n",
              "      <td>northwest</td>\n",
              "    </tr>\n",
              "  </tbody>\n",
              "</table>\n",
              "<p>1070 rows × 6 columns</p>\n",
              "</div>"
            ],
            "text/plain": [
              "      age     sex   bmi  children smoker     region\n",
              "294    25    male  26.8         3     no  southwest\n",
              "179    41  female  33.2         3     no  northeast\n",
              "1335   18  female  36.9         0     no  southeast\n",
              "634    51    male  39.7         1     no  southwest\n",
              "67     40    male  26.3         1     no  northwest\n",
              "...   ...     ...   ...       ...    ...        ...\n",
              "627    33    male  42.5         1     no  southeast\n",
              "76     29  female  29.6         1     no  southeast\n",
              "319    32    male  37.3         1     no  northeast\n",
              "197    45  female  28.6         2     no  southeast\n",
              "1147   20  female  31.9         0     no  northwest\n",
              "\n",
              "[1070 rows x 6 columns]"
            ]
          },
          "metadata": {
            "tags": []
          },
          "execution_count": 30
        }
      ]
    },
    {
      "cell_type": "code",
      "metadata": {
        "colab": {
          "base_uri": "https://localhost:8080/"
        },
        "id": "6WrZ0TQYMZmx",
        "outputId": "7dfe2451-501b-4158-e53b-9bfe18f85223"
      },
      "source": [
        "train_labels"
      ],
      "execution_count": 31,
      "outputs": [
        {
          "output_type": "execute_result",
          "data": {
            "text/plain": [
              "294      3906.13\n",
              "179      8538.29\n",
              "1335     1629.83\n",
              "634      9391.35\n",
              "67       6389.38\n",
              "          ...   \n",
              "627     11326.71\n",
              "76       3947.41\n",
              "319      4667.61\n",
              "197      8516.83\n",
              "1147     2261.57\n",
              "Name: expenses, Length: 1070, dtype: float64"
            ]
          },
          "metadata": {
            "tags": []
          },
          "execution_count": 31
        }
      ]
    },
    {
      "cell_type": "code",
      "metadata": {
        "colab": {
          "base_uri": "https://localhost:8080/",
          "height": 415
        },
        "id": "fn9S-5smMb-6",
        "outputId": "15fff07a-e5ee-47d7-b208-2f1336f82d91"
      },
      "source": [
        "strat_test_set"
      ],
      "execution_count": 32,
      "outputs": [
        {
          "output_type": "execute_result",
          "data": {
            "text/html": [
              "<div>\n",
              "<style scoped>\n",
              "    .dataframe tbody tr th:only-of-type {\n",
              "        vertical-align: middle;\n",
              "    }\n",
              "\n",
              "    .dataframe tbody tr th {\n",
              "        vertical-align: top;\n",
              "    }\n",
              "\n",
              "    .dataframe thead th {\n",
              "        text-align: right;\n",
              "    }\n",
              "</style>\n",
              "<table border=\"1\" class=\"dataframe\">\n",
              "  <thead>\n",
              "    <tr style=\"text-align: right;\">\n",
              "      <th></th>\n",
              "      <th>age</th>\n",
              "      <th>sex</th>\n",
              "      <th>bmi</th>\n",
              "      <th>children</th>\n",
              "      <th>smoker</th>\n",
              "      <th>region</th>\n",
              "    </tr>\n",
              "  </thead>\n",
              "  <tbody>\n",
              "    <tr>\n",
              "      <th>71</th>\n",
              "      <td>31</td>\n",
              "      <td>male</td>\n",
              "      <td>28.5</td>\n",
              "      <td>5</td>\n",
              "      <td>no</td>\n",
              "      <td>northeast</td>\n",
              "    </tr>\n",
              "    <tr>\n",
              "      <th>434</th>\n",
              "      <td>31</td>\n",
              "      <td>male</td>\n",
              "      <td>28.6</td>\n",
              "      <td>1</td>\n",
              "      <td>no</td>\n",
              "      <td>northwest</td>\n",
              "    </tr>\n",
              "    <tr>\n",
              "      <th>370</th>\n",
              "      <td>61</td>\n",
              "      <td>female</td>\n",
              "      <td>21.1</td>\n",
              "      <td>0</td>\n",
              "      <td>no</td>\n",
              "      <td>northwest</td>\n",
              "    </tr>\n",
              "    <tr>\n",
              "      <th>44</th>\n",
              "      <td>38</td>\n",
              "      <td>male</td>\n",
              "      <td>37.1</td>\n",
              "      <td>1</td>\n",
              "      <td>no</td>\n",
              "      <td>northeast</td>\n",
              "    </tr>\n",
              "    <tr>\n",
              "      <th>1039</th>\n",
              "      <td>19</td>\n",
              "      <td>male</td>\n",
              "      <td>27.3</td>\n",
              "      <td>2</td>\n",
              "      <td>no</td>\n",
              "      <td>northwest</td>\n",
              "    </tr>\n",
              "    <tr>\n",
              "      <th>...</th>\n",
              "      <td>...</td>\n",
              "      <td>...</td>\n",
              "      <td>...</td>\n",
              "      <td>...</td>\n",
              "      <td>...</td>\n",
              "      <td>...</td>\n",
              "    </tr>\n",
              "    <tr>\n",
              "      <th>39</th>\n",
              "      <td>60</td>\n",
              "      <td>male</td>\n",
              "      <td>39.9</td>\n",
              "      <td>0</td>\n",
              "      <td>yes</td>\n",
              "      <td>southwest</td>\n",
              "    </tr>\n",
              "    <tr>\n",
              "      <th>610</th>\n",
              "      <td>47</td>\n",
              "      <td>female</td>\n",
              "      <td>29.4</td>\n",
              "      <td>1</td>\n",
              "      <td>no</td>\n",
              "      <td>southeast</td>\n",
              "    </tr>\n",
              "    <tr>\n",
              "      <th>57</th>\n",
              "      <td>18</td>\n",
              "      <td>male</td>\n",
              "      <td>31.7</td>\n",
              "      <td>2</td>\n",
              "      <td>yes</td>\n",
              "      <td>southeast</td>\n",
              "    </tr>\n",
              "    <tr>\n",
              "      <th>851</th>\n",
              "      <td>61</td>\n",
              "      <td>male</td>\n",
              "      <td>32.3</td>\n",
              "      <td>2</td>\n",
              "      <td>no</td>\n",
              "      <td>northwest</td>\n",
              "    </tr>\n",
              "    <tr>\n",
              "      <th>1265</th>\n",
              "      <td>64</td>\n",
              "      <td>male</td>\n",
              "      <td>23.8</td>\n",
              "      <td>0</td>\n",
              "      <td>yes</td>\n",
              "      <td>southeast</td>\n",
              "    </tr>\n",
              "  </tbody>\n",
              "</table>\n",
              "<p>268 rows × 6 columns</p>\n",
              "</div>"
            ],
            "text/plain": [
              "      age     sex   bmi  children smoker     region\n",
              "71     31    male  28.5         5     no  northeast\n",
              "434    31    male  28.6         1     no  northwest\n",
              "370    61  female  21.1         0     no  northwest\n",
              "44     38    male  37.1         1     no  northeast\n",
              "1039   19    male  27.3         2     no  northwest\n",
              "...   ...     ...   ...       ...    ...        ...\n",
              "39     60    male  39.9         0    yes  southwest\n",
              "610    47  female  29.4         1     no  southeast\n",
              "57     18    male  31.7         2    yes  southeast\n",
              "851    61    male  32.3         2     no  northwest\n",
              "1265   64    male  23.8         0    yes  southeast\n",
              "\n",
              "[268 rows x 6 columns]"
            ]
          },
          "metadata": {
            "tags": []
          },
          "execution_count": 32
        }
      ]
    },
    {
      "cell_type": "code",
      "metadata": {
        "colab": {
          "base_uri": "https://localhost:8080/"
        },
        "id": "rdL1YRSWMfEl",
        "outputId": "ee64d184-be17-4102-d9bd-7b7c051ffdab"
      },
      "source": [
        "test_labels"
      ],
      "execution_count": 33,
      "outputs": [
        {
          "output_type": "execute_result",
          "data": {
            "text/plain": [
              "71       6799.46\n",
              "434      4243.59\n",
              "370     13415.04\n",
              "44       6079.67\n",
              "1039    22493.66\n",
              "          ...   \n",
              "39      48173.36\n",
              "610      8547.69\n",
              "57      34303.17\n",
              "851     14119.62\n",
              "1265    26926.51\n",
              "Name: expenses, Length: 268, dtype: float64"
            ]
          },
          "metadata": {
            "tags": []
          },
          "execution_count": 33
        }
      ]
    },
    {
      "cell_type": "markdown",
      "metadata": {
        "id": "spYRvkdp8V7g"
      },
      "source": [
        "It's worked as expected. Let's make two lists that separates categorical/text attributes and numerical attributes."
      ]
    },
    {
      "cell_type": "code",
      "metadata": {
        "id": "5mNijgVbMgu9"
      },
      "source": [
        "cat_cols = [cname for cname in strat_train_set.columns if strat_train_set[cname].nunique() < 10 and \n",
        "           strat_train_set[cname].dtype == \"object\"]\n",
        "num_cols = [cname for cname in strat_train_set.columns if strat_train_set[cname].dtype in ['int64', 'float64']]"
      ],
      "execution_count": 34,
      "outputs": []
    },
    {
      "cell_type": "code",
      "metadata": {
        "colab": {
          "base_uri": "https://localhost:8080/"
        },
        "id": "Qs1OqCM1MySW",
        "outputId": "e3e61530-88b4-4c73-964b-883a3db40e09"
      },
      "source": [
        "cat_cols"
      ],
      "execution_count": 35,
      "outputs": [
        {
          "output_type": "execute_result",
          "data": {
            "text/plain": [
              "['sex', 'smoker', 'region']"
            ]
          },
          "metadata": {
            "tags": []
          },
          "execution_count": 35
        }
      ]
    },
    {
      "cell_type": "code",
      "metadata": {
        "colab": {
          "base_uri": "https://localhost:8080/"
        },
        "id": "JUz-QX6KMz76",
        "outputId": "bbe3a550-90f8-4ea7-eb0f-675f0bfc240f"
      },
      "source": [
        "num_cols"
      ],
      "execution_count": 36,
      "outputs": [
        {
          "output_type": "execute_result",
          "data": {
            "text/plain": [
              "['age', 'bmi', 'children']"
            ]
          },
          "metadata": {
            "tags": []
          },
          "execution_count": 36
        }
      ]
    },
    {
      "cell_type": "markdown",
      "metadata": {
        "id": "ts1G1xXj_AQ8"
      },
      "source": [
        "Let's handle the categorical columns and the numerical columns separately and apply the appropriate transformations to each column.\n",
        "\n",
        "In this transformer, I convert categorical values into one-hot vectors to create one binary attribute per category and apply feature scaling using *standardization* to the numerical attributes because *standardization* is much less affected by outliers."
      ]
    },
    {
      "cell_type": "code",
      "metadata": {
        "id": "18D4k7szM1QR"
      },
      "source": [
        "from sklearn.compose import ColumnTransformer\n",
        "from sklearn.preprocessing import StandardScaler\n",
        "from sklearn.preprocessing import OneHotEncoder\n",
        "\n",
        "\n",
        "full_pipeline = ColumnTransformer([\n",
        "                                   (\"num\", StandardScaler(), num_cols), \n",
        "                                   (\"cat\", OneHotEncoder(), cat_cols),\n",
        "                                   ])\n",
        "\n",
        "train_prepared = full_pipeline.fit_transform(strat_train_set)"
      ],
      "execution_count": 37,
      "outputs": []
    },
    {
      "cell_type": "markdown",
      "metadata": {
        "id": "7S_RTElxByf0"
      },
      "source": [
        "And now train set has been prepared. Let's check train set shape and train label shape."
      ]
    },
    {
      "cell_type": "code",
      "metadata": {
        "colab": {
          "base_uri": "https://localhost:8080/"
        },
        "id": "buCS-qMNM4zW",
        "outputId": "547d942c-bd3d-4ff1-d4d3-1aab022cf5ff"
      },
      "source": [
        "train_prepared.shape"
      ],
      "execution_count": 38,
      "outputs": [
        {
          "output_type": "execute_result",
          "data": {
            "text/plain": [
              "(1070, 11)"
            ]
          },
          "metadata": {
            "tags": []
          },
          "execution_count": 38
        }
      ]
    },
    {
      "cell_type": "code",
      "metadata": {
        "colab": {
          "base_uri": "https://localhost:8080/"
        },
        "id": "eaosflWhM_GT",
        "outputId": "90775481-7293-44c2-e946-a050237e2f2b"
      },
      "source": [
        "train_labels.shape"
      ],
      "execution_count": 39,
      "outputs": [
        {
          "output_type": "execute_result",
          "data": {
            "text/plain": [
              "(1070,)"
            ]
          },
          "metadata": {
            "tags": []
          },
          "execution_count": 39
        }
      ]
    },
    {
      "cell_type": "markdown",
      "metadata": {
        "id": "C4R2VSiNCTGV"
      },
      "source": [
        "Notice that prepared train set has 11 attributes because the `OneHotEncoder` returns a sparse matrix while the `StandardScaler` returns a dense matrix and the `ColumnTransformer` estimates the density of the final matrix, which is a dense matrix."
      ]
    },
    {
      "cell_type": "markdown",
      "metadata": {
        "id": "zjIZOZP3EQk8"
      },
      "source": [
        "## Train a Model"
      ]
    },
    {
      "cell_type": "markdown",
      "metadata": {
        "id": "eH4JoXI4Edbw"
      },
      "source": [
        "Due to in this challenge I will predict healthcare costs using a linear regression algorithm with neural networks, I build model with just a single hidden layer and single neuron with linear activation function."
      ]
    },
    {
      "cell_type": "code",
      "metadata": {
        "id": "jeWU_jM4NCi_"
      },
      "source": [
        "np.random.seed(42)\n",
        "tf.random.set_seed(42)"
      ],
      "execution_count": 40,
      "outputs": []
    },
    {
      "cell_type": "code",
      "metadata": {
        "id": "bUyp3iaANEK3"
      },
      "source": [
        "from keras import optimizers\n",
        "\n",
        "model = keras.models.Sequential([\n",
        "                                 layers.Dense(1, activation = \"linear\", input_shape = train_prepared.shape[1:]),\n",
        "                                 layers.Dense(1)\n",
        "])\n",
        "model.compile(loss = 'mean_absolute_error', optimizer = optimizers.RMSprop(lr = 0.1), metrics=['mae','mse'])"
      ],
      "execution_count": 41,
      "outputs": []
    },
    {
      "cell_type": "code",
      "metadata": {
        "colab": {
          "base_uri": "https://localhost:8080/"
        },
        "id": "iQJOXNQJNTfx",
        "outputId": "c6c728fe-d129-4fde-90b4-6ae82185b791"
      },
      "source": [
        "model.summary()"
      ],
      "execution_count": 42,
      "outputs": [
        {
          "output_type": "stream",
          "text": [
            "Model: \"sequential\"\n",
            "_________________________________________________________________\n",
            "Layer (type)                 Output Shape              Param #   \n",
            "=================================================================\n",
            "dense (Dense)                (None, 1)                 12        \n",
            "_________________________________________________________________\n",
            "dense_1 (Dense)              (None, 1)                 2         \n",
            "=================================================================\n",
            "Total params: 14\n",
            "Trainable params: 14\n",
            "Non-trainable params: 0\n",
            "_________________________________________________________________\n"
          ],
          "name": "stdout"
        }
      ]
    },
    {
      "cell_type": "code",
      "metadata": {
        "colab": {
          "base_uri": "https://localhost:8080/",
          "height": 312
        },
        "id": "Zz6Ou80ePKqX",
        "outputId": "f3601cf7-e90c-4e59-9734-29865d9cbb55"
      },
      "source": [
        "keras.utils.plot_model(model, show_shapes = True)"
      ],
      "execution_count": 43,
      "outputs": [
        {
          "output_type": "execute_result",
          "data": {
            "image/png": "[encoded data removed]",
            "text/plain": [
              "<IPython.core.display.Image object>"
            ]
          },
          "metadata": {
            "tags": []
          },
          "execution_count": 43
        }
      ]
    },
    {
      "cell_type": "code",
      "metadata": {
        "colab": {
          "base_uri": "https://localhost:8080/"
        },
        "id": "C7fj7k_WPeKY",
        "outputId": "5f36e6a7-2b16-4e2e-a194-a3329d9140a6"
      },
      "source": [
        "model.layers"
      ],
      "execution_count": 44,
      "outputs": [
        {
          "output_type": "execute_result",
          "data": {
            "text/plain": [
              "[<tensorflow.python.keras.layers.core.Dense at 0x7fe45ba255d0>,\n",
              " <tensorflow.python.keras.layers.core.Dense at 0x7fe45b9f4490>]"
            ]
          },
          "metadata": {
            "tags": []
          },
          "execution_count": 44
        }
      ]
    },
    {
      "cell_type": "code",
      "metadata": {
        "colab": {
          "base_uri": "https://localhost:8080/"
        },
        "id": "J6rwAXjCNVRd",
        "outputId": "d9dc8e1f-7544-425d-cea8-1fc25dbf1c55"
      },
      "source": [
        "history = model.fit(train_prepared, train_labels, epochs = 100)"
      ],
      "execution_count": 45,
      "outputs": [
        {
          "output_type": "stream",
          "text": [
            "Epoch 1/100\n",
            "34/34 [==============================] - 1s 2ms/step - loss: 13428.8724 - mae: 13428.8724 - mse: 336408041.1429\n",
            "Epoch 2/100\n",
            "34/34 [==============================] - 0s 1ms/step - loss: 13231.4635 - mae: 13231.4635 - mse: 329303600.4571\n",
            "Epoch 3/100\n",
            "34/34 [==============================] - 0s 1ms/step - loss: 12589.7627 - mae: 12589.7627 - mse: 297124963.6571\n",
            "Epoch 4/100\n",
            "34/34 [==============================] - 0s 1ms/step - loss: 12360.5912 - mae: 12360.5912 - mse: 292058130.7429\n",
            "Epoch 5/100\n",
            "34/34 [==============================] - 0s 1ms/step - loss: 12249.6307 - mae: 12249.6307 - mse: 298855804.3429\n",
            "Epoch 6/100\n",
            "34/34 [==============================] - 0s 1ms/step - loss: 11241.9083 - mae: 11241.9083 - mse: 259270043.4286\n",
            "Epoch 7/100\n",
            "34/34 [==============================] - 0s 1ms/step - loss: 10882.0375 - mae: 10882.0375 - mse: 258935767.7714\n",
            "Epoch 8/100\n",
            "34/34 [==============================] - 0s 1ms/step - loss: 10594.8364 - mae: 10594.8364 - mse: 260087019.8857\n",
            "Epoch 9/100\n",
            "34/34 [==============================] - 0s 1ms/step - loss: 10121.8287 - mae: 10121.8287 - mse: 245840792.2286\n",
            "Epoch 10/100\n",
            "34/34 [==============================] - 0s 1ms/step - loss: 9277.7018 - mae: 9277.7018 - mse: 211043719.3143\n",
            "Epoch 11/100\n",
            "34/34 [==============================] - 0s 1ms/step - loss: 9361.7123 - mae: 9361.7123 - mse: 223342052.5714\n",
            "Epoch 12/100\n",
            "34/34 [==============================] - 0s 1ms/step - loss: 8465.7021 - mae: 8465.7021 - mse: 193998335.0857\n",
            "Epoch 13/100\n",
            "34/34 [==============================] - 0s 1ms/step - loss: 8534.5278 - mae: 8534.5278 - mse: 199997776.9143\n",
            "Epoch 14/100\n",
            "34/34 [==============================] - 0s 2ms/step - loss: 7619.0332 - mae: 7619.0332 - mse: 163855062.1714\n",
            "Epoch 15/100\n",
            "34/34 [==============================] - 0s 1ms/step - loss: 7364.1726 - mae: 7364.1726 - mse: 154732192.2286\n",
            "Epoch 16/100\n",
            "34/34 [==============================] - 0s 1ms/step - loss: 6834.0588 - mae: 6834.0588 - mse: 137237279.0857\n",
            "Epoch 17/100\n",
            "34/34 [==============================] - 0s 1ms/step - loss: 6779.5270 - mae: 6779.5270 - mse: 136868951.7714\n",
            "Epoch 18/100\n",
            "34/34 [==============================] - 0s 1ms/step - loss: 6771.3355 - mae: 6771.3355 - mse: 141736988.3429\n",
            "Epoch 19/100\n",
            "34/34 [==============================] - 0s 1ms/step - loss: 6411.6212 - mae: 6411.6212 - mse: 130866335.0857\n",
            "Epoch 20/100\n",
            "34/34 [==============================] - 0s 1ms/step - loss: 6320.3830 - mae: 6320.3830 - mse: 126023794.0571\n",
            "Epoch 21/100\n",
            "34/34 [==============================] - 0s 1ms/step - loss: 5944.9478 - mae: 5944.9478 - mse: 119972350.9714\n",
            "Epoch 22/100\n",
            "34/34 [==============================] - 0s 1ms/step - loss: 6014.2258 - mae: 6014.2258 - mse: 136611757.0286\n",
            "Epoch 23/100\n",
            "34/34 [==============================] - 0s 1ms/step - loss: 5440.1531 - mae: 5440.1531 - mse: 122608519.0857\n",
            "Epoch 24/100\n",
            "34/34 [==============================] - 0s 1ms/step - loss: 4935.5353 - mae: 4935.5353 - mse: 107945576.0000\n",
            "Epoch 25/100\n",
            "34/34 [==============================] - 0s 1ms/step - loss: 5522.8915 - mae: 5522.8915 - mse: 122331624.0000\n",
            "Epoch 26/100\n",
            "34/34 [==============================] - 0s 1ms/step - loss: 5327.2812 - mae: 5327.2812 - mse: 110602200.4571\n",
            "Epoch 27/100\n",
            "34/34 [==============================] - 0s 1ms/step - loss: 4960.7858 - mae: 4960.7858 - mse: 104089814.6286\n",
            "Epoch 28/100\n",
            "34/34 [==============================] - 0s 1ms/step - loss: 5293.5032 - mae: 5293.5032 - mse: 109999522.9714\n",
            "Epoch 29/100\n",
            "34/34 [==============================] - 0s 1ms/step - loss: 4872.7458 - mae: 4872.7458 - mse: 103971869.0286\n",
            "Epoch 30/100\n",
            "34/34 [==============================] - 0s 1ms/step - loss: 5282.2607 - mae: 5282.2607 - mse: 111132702.8571\n",
            "Epoch 31/100\n",
            "34/34 [==============================] - 0s 2ms/step - loss: 5026.6731 - mae: 5026.6731 - mse: 103987779.4286\n",
            "Epoch 32/100\n",
            "34/34 [==============================] - 0s 1ms/step - loss: 4809.9069 - mae: 4809.9069 - mse: 94988720.4571\n",
            "Epoch 33/100\n",
            "34/34 [==============================] - 0s 1ms/step - loss: 4473.3711 - mae: 4473.3711 - mse: 88387245.7143\n",
            "Epoch 34/100\n",
            "34/34 [==============================] - 0s 1ms/step - loss: 4086.1772 - mae: 4086.1772 - mse: 76285842.5143\n",
            "Epoch 35/100\n",
            "34/34 [==============================] - 0s 1ms/step - loss: 4036.5701 - mae: 4036.5701 - mse: 74835060.0000\n",
            "Epoch 36/100\n",
            "34/34 [==============================] - 0s 1ms/step - loss: 3926.5532 - mae: 3926.5532 - mse: 72057867.7714\n",
            "Epoch 37/100\n",
            "34/34 [==============================] - 0s 1ms/step - loss: 3588.4321 - mae: 3588.4321 - mse: 63121061.0286\n",
            "Epoch 38/100\n",
            "34/34 [==============================] - 0s 1ms/step - loss: 3983.4805 - mae: 3983.4805 - mse: 72391965.2571\n",
            "Epoch 39/100\n",
            "34/34 [==============================] - 0s 1ms/step - loss: 3694.1190 - mae: 3694.1190 - mse: 64236756.6000\n",
            "Epoch 40/100\n",
            "34/34 [==============================] - 0s 1ms/step - loss: 4104.3869 - mae: 4104.3869 - mse: 71009425.1429\n",
            "Epoch 41/100\n",
            "34/34 [==============================] - 0s 1ms/step - loss: 3896.7460 - mae: 3896.7460 - mse: 67491352.0000\n",
            "Epoch 42/100\n",
            "34/34 [==============================] - 0s 1ms/step - loss: 3625.2949 - mae: 3625.2949 - mse: 56755320.6857\n",
            "Epoch 43/100\n",
            "34/34 [==============================] - 0s 1ms/step - loss: 4068.1230 - mae: 4068.1230 - mse: 67538259.0000\n",
            "Epoch 44/100\n",
            "34/34 [==============================] - 0s 1ms/step - loss: 4013.5984 - mae: 4013.5984 - mse: 63665954.1714\n",
            "Epoch 45/100\n",
            "34/34 [==============================] - 0s 1ms/step - loss: 3722.6682 - mae: 3722.6682 - mse: 55861719.2000\n",
            "Epoch 46/100\n",
            "34/34 [==============================] - 0s 1ms/step - loss: 3496.4523 - mae: 3496.4523 - mse: 51617605.0286\n",
            "Epoch 47/100\n",
            "34/34 [==============================] - 0s 1ms/step - loss: 3400.7664 - mae: 3400.7664 - mse: 49342604.8000\n",
            "Epoch 48/100\n",
            "34/34 [==============================] - 0s 1ms/step - loss: 3479.0617 - mae: 3479.0617 - mse: 53041017.0286\n",
            "Epoch 49/100\n",
            "34/34 [==============================] - 0s 2ms/step - loss: 3239.1947 - mae: 3239.1947 - mse: 43780486.0571\n",
            "Epoch 50/100\n",
            "34/34 [==============================] - 0s 2ms/step - loss: 3667.2238 - mae: 3667.2238 - mse: 53218640.3429\n",
            "Epoch 51/100\n",
            "34/34 [==============================] - 0s 2ms/step - loss: 3966.2313 - mae: 3966.2313 - mse: 61467247.2000\n",
            "Epoch 52/100\n",
            "34/34 [==============================] - 0s 1ms/step - loss: 3759.5155 - mae: 3759.5155 - mse: 52926762.6286\n",
            "Epoch 53/100\n",
            "34/34 [==============================] - 0s 1ms/step - loss: 3762.2243 - mae: 3762.2243 - mse: 51812974.8571\n",
            "Epoch 54/100\n",
            "34/34 [==============================] - 0s 1ms/step - loss: 3507.8154 - mae: 3507.8154 - mse: 47394994.8571\n",
            "Epoch 55/100\n",
            "34/34 [==============================] - 0s 1ms/step - loss: 3678.3526 - mae: 3678.3526 - mse: 50626207.3143\n",
            "Epoch 56/100\n",
            "34/34 [==============================] - 0s 1ms/step - loss: 3571.4257 - mae: 3571.4257 - mse: 49626079.8286\n",
            "Epoch 57/100\n",
            "34/34 [==============================] - 0s 2ms/step - loss: 3631.1983 - mae: 3631.1983 - mse: 49450019.7714\n",
            "Epoch 58/100\n",
            "34/34 [==============================] - 0s 2ms/step - loss: 3718.4596 - mae: 3718.4596 - mse: 50266215.9429\n",
            "Epoch 59/100\n",
            "34/34 [==============================] - 0s 1ms/step - loss: 3756.2782 - mae: 3756.2782 - mse: 53102159.6571\n",
            "Epoch 60/100\n",
            "34/34 [==============================] - 0s 2ms/step - loss: 3686.7201 - mae: 3686.7201 - mse: 49906214.8571\n",
            "Epoch 61/100\n",
            "34/34 [==============================] - 0s 1ms/step - loss: 3546.8417 - mae: 3546.8417 - mse: 44725307.0857\n",
            "Epoch 62/100\n",
            "34/34 [==============================] - 0s 1ms/step - loss: 3180.2247 - mae: 3180.2247 - mse: 39387147.8286\n",
            "Epoch 63/100\n",
            "34/34 [==============================] - 0s 2ms/step - loss: 3758.7229 - mae: 3758.7229 - mse: 47809382.4000\n",
            "Epoch 64/100\n",
            "34/34 [==============================] - 0s 2ms/step - loss: 3622.3777 - mae: 3622.3777 - mse: 47602570.0571\n",
            "Epoch 65/100\n",
            "34/34 [==============================] - 0s 1ms/step - loss: 3416.6164 - mae: 3416.6164 - mse: 42912833.7143\n",
            "Epoch 66/100\n",
            "34/34 [==============================] - 0s 1ms/step - loss: 3627.4675 - mae: 3627.4675 - mse: 46911085.8286\n",
            "Epoch 67/100\n",
            "34/34 [==============================] - 0s 1ms/step - loss: 3745.6552 - mae: 3745.6552 - mse: 48814041.0286\n",
            "Epoch 68/100\n",
            "34/34 [==============================] - 0s 1ms/step - loss: 3461.2975 - mae: 3461.2975 - mse: 41383009.8286\n",
            "Epoch 69/100\n",
            "34/34 [==============================] - 0s 2ms/step - loss: 3677.3553 - mae: 3677.3553 - mse: 46457528.5714\n",
            "Epoch 70/100\n",
            "34/34 [==============================] - 0s 2ms/step - loss: 3472.4396 - mae: 3472.4396 - mse: 42049448.2286\n",
            "Epoch 71/100\n",
            "34/34 [==============================] - 0s 1ms/step - loss: 3836.3281 - mae: 3836.3281 - mse: 48783330.5143\n",
            "Epoch 72/100\n",
            "34/34 [==============================] - 0s 1ms/step - loss: 3790.8050 - mae: 3790.8050 - mse: 48862218.8571\n",
            "Epoch 73/100\n",
            "34/34 [==============================] - 0s 1ms/step - loss: 3627.4756 - mae: 3627.4756 - mse: 45937536.6857\n",
            "Epoch 74/100\n",
            "34/34 [==============================] - 0s 1ms/step - loss: 3436.1271 - mae: 3436.1271 - mse: 43506478.2857\n",
            "Epoch 75/100\n",
            "34/34 [==============================] - 0s 1ms/step - loss: 3745.4554 - mae: 3745.4554 - mse: 48074950.7429\n",
            "Epoch 76/100\n",
            "34/34 [==============================] - 0s 1ms/step - loss: 3610.3322 - mae: 3610.3322 - mse: 43315159.7714\n",
            "Epoch 77/100\n",
            "34/34 [==============================] - 0s 1ms/step - loss: 3694.5457 - mae: 3694.5457 - mse: 46470577.3714\n",
            "Epoch 78/100\n",
            "34/34 [==============================] - 0s 1ms/step - loss: 3371.1581 - mae: 3371.1581 - mse: 38308854.5714\n",
            "Epoch 79/100\n",
            "34/34 [==============================] - 0s 2ms/step - loss: 3543.4183 - mae: 3543.4183 - mse: 41327206.4571\n",
            "Epoch 80/100\n",
            "34/34 [==============================] - 0s 1ms/step - loss: 3667.5074 - mae: 3667.5074 - mse: 46086411.6571\n",
            "Epoch 81/100\n",
            "34/34 [==============================] - 0s 1ms/step - loss: 3580.0172 - mae: 3580.0172 - mse: 43017214.6286\n",
            "Epoch 82/100\n",
            "34/34 [==============================] - 0s 2ms/step - loss: 3756.5320 - mae: 3756.5320 - mse: 44498183.3143\n",
            "Epoch 83/100\n",
            "34/34 [==============================] - 0s 1ms/step - loss: 3688.2325 - mae: 3688.2325 - mse: 44943034.2857\n",
            "Epoch 84/100\n",
            "34/34 [==============================] - 0s 1ms/step - loss: 3677.9650 - mae: 3677.9650 - mse: 44819925.3714\n",
            "Epoch 85/100\n",
            "34/34 [==============================] - 0s 2ms/step - loss: 3610.4216 - mae: 3610.4216 - mse: 42158948.4571\n",
            "Epoch 86/100\n",
            "34/34 [==============================] - 0s 1ms/step - loss: 3424.3597 - mae: 3424.3597 - mse: 42147075.8857\n",
            "Epoch 87/100\n",
            "34/34 [==============================] - 0s 1ms/step - loss: 3727.5094 - mae: 3727.5094 - mse: 44925516.5714\n",
            "Epoch 88/100\n",
            "34/34 [==============================] - 0s 1ms/step - loss: 3621.8415 - mae: 3621.8415 - mse: 44226665.6000\n",
            "Epoch 89/100\n",
            "34/34 [==============================] - 0s 1ms/step - loss: 3737.0456 - mae: 3737.0456 - mse: 46071674.4000\n",
            "Epoch 90/100\n",
            "34/34 [==============================] - 0s 1ms/step - loss: 3679.4086 - mae: 3679.4086 - mse: 42737568.1143\n",
            "Epoch 91/100\n",
            "34/34 [==============================] - 0s 1ms/step - loss: 3639.6239 - mae: 3639.6239 - mse: 42854679.5429\n",
            "Epoch 92/100\n",
            "34/34 [==============================] - 0s 1ms/step - loss: 3636.3470 - mae: 3636.3470 - mse: 44306127.3143\n",
            "Epoch 93/100\n",
            "34/34 [==============================] - 0s 1ms/step - loss: 3071.2193 - mae: 3071.2193 - mse: 34330012.6857\n",
            "Epoch 94/100\n",
            "34/34 [==============================] - 0s 1ms/step - loss: 3325.7144 - mae: 3325.7144 - mse: 39877359.8286\n",
            "Epoch 95/100\n",
            "34/34 [==============================] - 0s 1ms/step - loss: 3507.4189 - mae: 3507.4189 - mse: 42227076.5714\n",
            "Epoch 96/100\n",
            "34/34 [==============================] - 0s 1ms/step - loss: 3500.0307 - mae: 3500.0307 - mse: 42001158.9714\n",
            "Epoch 97/100\n",
            "34/34 [==============================] - 0s 1ms/step - loss: 3590.5562 - mae: 3590.5562 - mse: 43225679.4857\n",
            "Epoch 98/100\n",
            "34/34 [==============================] - 0s 2ms/step - loss: 3640.6800 - mae: 3640.6800 - mse: 45030785.7143\n",
            "Epoch 99/100\n",
            "34/34 [==============================] - 0s 1ms/step - loss: 3452.4449 - mae: 3452.4449 - mse: 44151147.2000\n",
            "Epoch 100/100\n",
            "34/34 [==============================] - 0s 1ms/step - loss: 3224.0997 - mae: 3224.0997 - mse: 37852487.6000\n"
          ],
          "name": "stdout"
        }
      ]
    },
    {
      "cell_type": "markdown",
      "metadata": {
        "id": "HvrSV15LGTdu"
      },
      "source": [
        "Let's visualize the learning curves plot."
      ]
    },
    {
      "cell_type": "code",
      "metadata": {
        "colab": {
          "base_uri": "https://localhost:8080/",
          "height": 331
        },
        "id": "DBMs7OkANd7I",
        "outputId": "f3bbca38-1b52-4193-8f4c-acd338be7197"
      },
      "source": [
        "pd.DataFrame(history.history).plot(figsize=(8, 5))\n",
        "plt.grid(True)\n",
        "plt.show()"
      ],
      "execution_count": 46,
      "outputs": [
        {
          "output_type": "display_data",
          "data": {
            "image/png": "[encoded data removed]",
            "text/plain": [
              "<Figure size 576x360 with 1 Axes>"
            ]
          },
          "metadata": {
            "tags": [],
            "needs_background": "light"
          }
        }
      ]
    },
    {
      "cell_type": "code",
      "metadata": {
        "colab": {
          "base_uri": "https://localhost:8080/",
          "height": 320
        },
        "id": "LEHPCXUnNmO7",
        "outputId": "ec60b624-52d7-4e0a-e652-3c05772f82a9"
      },
      "source": [
        "pd.DataFrame(history.history).plot(figsize=(8, 5))\n",
        "plt.grid(True)\n",
        "plt.gca().set_ylim(0, 15000) # set the vertical range to [0-1]\n",
        "plt.show()"
      ],
      "execution_count": 47,
      "outputs": [
        {
          "output_type": "display_data",
          "data": {
            "image/png": "[encoded data removed]",
            "text/plain": [
              "<Figure size 576x360 with 1 Axes>"
            ]
          },
          "metadata": {
            "tags": [],
            "needs_background": "light"
          }
        }
      ]
    },
    {
      "cell_type": "markdown",
      "metadata": {
        "id": "ZP50MqJ5Ide4"
      },
      "source": [
        "## Evaluate and Test "
      ]
    },
    {
      "cell_type": "markdown",
      "metadata": {
        "id": "mLcTAsn4HMEw"
      },
      "source": [
        "Let's transform the test set to prepared the test set, so I can evaluate the final model on the test set."
      ]
    },
    {
      "cell_type": "code",
      "metadata": {
        "id": "1-YqZFYiNvPe"
      },
      "source": [
        "test_prepared = full_pipeline.transform(strat_test_set)\n",
        "test_dataset = test_prepared"
      ],
      "execution_count": 48,
      "outputs": []
    },
    {
      "cell_type": "code",
      "metadata": {
        "colab": {
          "base_uri": "https://localhost:8080/"
        },
        "id": "JbiAm0LoN__q",
        "outputId": "9a32d5f6-519f-48a4-80ee-551b801ee74c"
      },
      "source": [
        "test_dataset.shape"
      ],
      "execution_count": 49,
      "outputs": [
        {
          "output_type": "execute_result",
          "data": {
            "text/plain": [
              "(268, 11)"
            ]
          },
          "metadata": {
            "tags": []
          },
          "execution_count": 49
        }
      ]
    },
    {
      "cell_type": "code",
      "metadata": {
        "colab": {
          "base_uri": "https://localhost:8080/"
        },
        "id": "gFaaiT3TOBhM",
        "outputId": "18c02b19-cbbb-407b-b3be-21097800f5c5"
      },
      "source": [
        "test_labels.shape"
      ],
      "execution_count": 50,
      "outputs": [
        {
          "output_type": "execute_result",
          "data": {
            "text/plain": [
              "(268,)"
            ]
          },
          "metadata": {
            "tags": []
          },
          "execution_count": 50
        }
      ]
    },
    {
      "cell_type": "code",
      "metadata": {
        "colab": {
          "base_uri": "https://localhost:8080/",
          "height": 335
        },
        "id": "wACUX-4LOC1u",
        "outputId": "4a3b1e4f-d2c7-4c08-ebbe-0917b8db65ca"
      },
      "source": [
        "# RUN THIS CELL TO TEST YOUR MODEL. DO NOT MODIFY CONTENTS.\n",
        "# Test model by checking how well the model generalizes using the test set.\n",
        "loss, mae, mse = model.evaluate(test_dataset, test_labels, verbose=2)\n",
        "\n",
        "print(\"Testing set Mean Abs Error: {:5.2f} expenses\".format(mae))\n",
        "\n",
        "if mae < 3500:\n",
        "  print(\"You passed the challenge. Great job!\")\n",
        "else:\n",
        "  print(\"The Mean Abs Error must be less than 3500. Keep trying.\")\n",
        "\n",
        "# Plot predictions.\n",
        "test_predictions = model.predict(test_dataset).flatten()\n",
        "\n",
        "a = plt.axes(aspect='equal')\n",
        "plt.scatter(test_labels, test_predictions)\n",
        "plt.xlabel('True values (expenses)')\n",
        "plt.ylabel('Predictions (expenses)')\n",
        "lims = [0, 50000]\n",
        "plt.xlim(lims)\n",
        "plt.ylim(lims)\n",
        "_ = plt.plot(lims,lims)\n"
      ],
      "execution_count": 51,
      "outputs": [
        {
          "output_type": "stream",
          "text": [
            "9/9 - 0s - loss: 3250.6021 - mae: 3250.6021 - mse: 37695676.0000\n",
            "Testing set Mean Abs Error: 3250.60 expenses\n",
            "You passed the challenge. Great job!\n"
          ],
          "name": "stdout"
        },
        {
          "output_type": "display_data",
          "data": {
            "image/png": "[encoded data removed]",
            "text/plain": [
              "<Figure size 432x288 with 1 Axes>"
            ]
          },
          "metadata": {
            "tags": [],
            "needs_background": "light"
          }
        }
      ]
    }
  ]
}
