{
  "nbformat": 4,
  "nbformat_minor": 0,
  "metadata": {
    "colab": {
      "name": "5_ML_fcc_sms_text_classification_using_RNN.ipynb",
      "provenance": [],
      "collapsed_sections": []
    },
    "kernelspec": {
      "display_name": "Python 3",
      "name": "python3"
    },
    "language_info": {
      "name": "python"
    },
    "accelerator": "GPU"
  },
  "cells": [
    {
      "cell_type": "markdown",
      "metadata": {
        "id": "uEQcjBoOua3D"
      },
      "source": [
        "# RNN SMS Text Classifier"
      ]
    },
    {
      "cell_type": "markdown",
      "metadata": {
        "id": "KqRDyJkWuQR-"
      },
      "source": [
        "*Note: You are currently reading this using Google Colaboratory which is a cloud-hosted version of Jupyter Notebook. This is a document containing both text cells for documentation and runnable code cells. If you are unfamiliar with Jupyter Notebook, watch this 3-minute introduction before starting this challenge: https://www.youtube.com/watch?v=inN8seMm7UI*\n",
        "\n",
        "---\n",
        "\n",
        "In this challenge, you need to create a machine learning model that will classify SMS messages as either \"ham\" or \"spam\". A \"ham\" message is a normal message sent by a friend. A \"spam\" message is an advertisement or a message sent by a company.\n",
        "\n",
        "You should create a function called `predict_message` that takes a message string as an argument and returns a list. The first element in the list should be a number between zero and one that indicates the likeliness of \"ham\" (0) or \"spam\" (1). The second element in the list should be the word \"ham\" or \"spam\", depending on which is most likely.\n",
        "\n",
        "For this challenge, you will use the [SMS Spam Collection dataset](http://www.dt.fee.unicamp.br/~tiago/smsspamcollection/). The dataset has already been grouped into train data and test data.\n",
        "\n",
        "The first two cells import the libraries and data. The final cell tests your model and function. Add your code in between these cells.\n"
      ]
    },
    {
      "cell_type": "markdown",
      "metadata": {
        "id": "mjXJElzZxL6F"
      },
      "source": [
        "## Import Libraries"
      ]
    },
    {
      "cell_type": "code",
      "metadata": {
        "id": "d_ImNeEzIucJ"
      },
      "source": [
        "# import libraries\n",
        "try:\n",
        "  # %tensorflow_version only exists in Colab.\n",
        "  !pip install tf-nightly\n",
        "except Exception:\n",
        "  pass\n",
        "import tensorflow as tf\n",
        "import pandas as pd\n",
        "from tensorflow import keras\n",
        "!pip install tensorflow-datasets\n",
        "import tensorflow_datasets as tfds\n",
        "import numpy as np\n",
        "import matplotlib.pyplot as plt\n",
        "\n",
        "# to make this notebook's output stable across runs\n",
        "np.random.seed(42)\n",
        "tf.random.set_seed(42)\n",
        "\n",
        "print(tf.__version__)"
      ],
      "execution_count": null,
      "outputs": []
    },
    {
      "cell_type": "markdown",
      "metadata": {
        "id": "pdk71SFUxNUB"
      },
      "source": [
        "## Load the Data"
      ]
    },
    {
      "cell_type": "markdown",
      "metadata": {
        "id": "wtPsugqJyUTV"
      },
      "source": [
        "Let's load the data and take a quick look at the dataset (train data and test data)"
      ]
    },
    {
      "cell_type": "code",
      "metadata": {
        "id": "gP2YkYzeIzNW"
      },
      "source": [
        "# get data files\n",
        "!wget https://cdn.freecodecamp.org/project-data/sms/train-data.tsv\n",
        "!wget https://cdn.freecodecamp.org/project-data/sms/valid-data.tsv\n",
        "\n",
        "train_file_path = \"train-data.tsv\"\n",
        "test_file_path = \"valid-data.tsv\""
      ],
      "execution_count": null,
      "outputs": []
    },
    {
      "cell_type": "code",
      "metadata": {
        "id": "7MQSX9gepi3I",
        "colab": {
          "base_uri": "https://localhost:8080/",
          "height": 415
        },
        "outputId": "2580a94d-33b0-4f82-bf8c-165e0a3beea3"
      },
      "source": [
        "train_data  = pd.read_csv(train_file_path, sep='\\t', header = None)\n",
        "train_data.columns = [\"label\", \"message\"]\n",
        "train_data"
      ],
      "execution_count": 3,
      "outputs": [
        {
          "output_type": "execute_result",
          "data": {
            "text/html": [
              "<div>\n",
              "<style scoped>\n",
              "    .dataframe tbody tr th:only-of-type {\n",
              "        vertical-align: middle;\n",
              "    }\n",
              "\n",
              "    .dataframe tbody tr th {\n",
              "        vertical-align: top;\n",
              "    }\n",
              "\n",
              "    .dataframe thead th {\n",
              "        text-align: right;\n",
              "    }\n",
              "</style>\n",
              "<table border=\"1\" class=\"dataframe\">\n",
              "  <thead>\n",
              "    <tr style=\"text-align: right;\">\n",
              "      <th></th>\n",
              "      <th>label</th>\n",
              "      <th>message</th>\n",
              "    </tr>\n",
              "  </thead>\n",
              "  <tbody>\n",
              "    <tr>\n",
              "      <th>0</th>\n",
              "      <td>ham</td>\n",
              "      <td>ahhhh...just woken up!had a bad dream about u ...</td>\n",
              "    </tr>\n",
              "    <tr>\n",
              "      <th>1</th>\n",
              "      <td>ham</td>\n",
              "      <td>you can never do nothing</td>\n",
              "    </tr>\n",
              "    <tr>\n",
              "      <th>2</th>\n",
              "      <td>ham</td>\n",
              "      <td>now u sound like manky scouse boy steve,like! ...</td>\n",
              "    </tr>\n",
              "    <tr>\n",
              "      <th>3</th>\n",
              "      <td>ham</td>\n",
              "      <td>mum say we wan to go then go... then she can s...</td>\n",
              "    </tr>\n",
              "    <tr>\n",
              "      <th>4</th>\n",
              "      <td>ham</td>\n",
              "      <td>never y lei... i v lazy... got wat? dat day ü ...</td>\n",
              "    </tr>\n",
              "    <tr>\n",
              "      <th>...</th>\n",
              "      <td>...</td>\n",
              "      <td>...</td>\n",
              "    </tr>\n",
              "    <tr>\n",
              "      <th>4174</th>\n",
              "      <td>ham</td>\n",
              "      <td>just woke up. yeesh its late. but i didn't fal...</td>\n",
              "    </tr>\n",
              "    <tr>\n",
              "      <th>4175</th>\n",
              "      <td>ham</td>\n",
              "      <td>what do u reckon as need 2 arrange transport i...</td>\n",
              "    </tr>\n",
              "    <tr>\n",
              "      <th>4176</th>\n",
              "      <td>spam</td>\n",
              "      <td>free entry into our £250 weekly competition ju...</td>\n",
              "    </tr>\n",
              "    <tr>\n",
              "      <th>4177</th>\n",
              "      <td>spam</td>\n",
              "      <td>-pls stop bootydelious (32/f) is inviting you ...</td>\n",
              "    </tr>\n",
              "    <tr>\n",
              "      <th>4178</th>\n",
              "      <td>ham</td>\n",
              "      <td>tell my  bad character which u dnt lik in me. ...</td>\n",
              "    </tr>\n",
              "  </tbody>\n",
              "</table>\n",
              "<p>4179 rows × 2 columns</p>\n",
              "</div>"
            ],
            "text/plain": [
              "     label                                            message\n",
              "0      ham  ahhhh...just woken up!had a bad dream about u ...\n",
              "1      ham                           you can never do nothing\n",
              "2      ham  now u sound like manky scouse boy steve,like! ...\n",
              "3      ham  mum say we wan to go then go... then she can s...\n",
              "4      ham  never y lei... i v lazy... got wat? dat day ü ...\n",
              "...    ...                                                ...\n",
              "4174   ham  just woke up. yeesh its late. but i didn't fal...\n",
              "4175   ham  what do u reckon as need 2 arrange transport i...\n",
              "4176  spam  free entry into our £250 weekly competition ju...\n",
              "4177  spam  -pls stop bootydelious (32/f) is inviting you ...\n",
              "4178   ham  tell my  bad character which u dnt lik in me. ...\n",
              "\n",
              "[4179 rows x 2 columns]"
            ]
          },
          "metadata": {
            "tags": []
          },
          "execution_count": 3
        }
      ]
    },
    {
      "cell_type": "code",
      "metadata": {
        "id": "khGtCHDAplYu",
        "colab": {
          "base_uri": "https://localhost:8080/",
          "height": 415
        },
        "outputId": "c404508e-e361-4e54-ea14-fee7022e25a5"
      },
      "source": [
        "test_data  = pd.read_csv(test_file_path, sep='\\t', header = None)\n",
        "test_data.columns = [\"label\", \"message\"]\n",
        "test_data"
      ],
      "execution_count": 4,
      "outputs": [
        {
          "output_type": "execute_result",
          "data": {
            "text/html": [
              "<div>\n",
              "<style scoped>\n",
              "    .dataframe tbody tr th:only-of-type {\n",
              "        vertical-align: middle;\n",
              "    }\n",
              "\n",
              "    .dataframe tbody tr th {\n",
              "        vertical-align: top;\n",
              "    }\n",
              "\n",
              "    .dataframe thead th {\n",
              "        text-align: right;\n",
              "    }\n",
              "</style>\n",
              "<table border=\"1\" class=\"dataframe\">\n",
              "  <thead>\n",
              "    <tr style=\"text-align: right;\">\n",
              "      <th></th>\n",
              "      <th>label</th>\n",
              "      <th>message</th>\n",
              "    </tr>\n",
              "  </thead>\n",
              "  <tbody>\n",
              "    <tr>\n",
              "      <th>0</th>\n",
              "      <td>ham</td>\n",
              "      <td>i am in hospital da. . i will return home in e...</td>\n",
              "    </tr>\n",
              "    <tr>\n",
              "      <th>1</th>\n",
              "      <td>ham</td>\n",
              "      <td>not much, just some textin'. how bout you?</td>\n",
              "    </tr>\n",
              "    <tr>\n",
              "      <th>2</th>\n",
              "      <td>ham</td>\n",
              "      <td>i probably won't eat at all today. i think i'm...</td>\n",
              "    </tr>\n",
              "    <tr>\n",
              "      <th>3</th>\n",
              "      <td>ham</td>\n",
              "      <td>don‘t give a flying monkeys wot they think and...</td>\n",
              "    </tr>\n",
              "    <tr>\n",
              "      <th>4</th>\n",
              "      <td>ham</td>\n",
              "      <td>who are you seeing?</td>\n",
              "    </tr>\n",
              "    <tr>\n",
              "      <th>...</th>\n",
              "      <td>...</td>\n",
              "      <td>...</td>\n",
              "    </tr>\n",
              "    <tr>\n",
              "      <th>1387</th>\n",
              "      <td>ham</td>\n",
              "      <td>true dear..i sat to pray evening and felt so.s...</td>\n",
              "    </tr>\n",
              "    <tr>\n",
              "      <th>1388</th>\n",
              "      <td>ham</td>\n",
              "      <td>what will we do in the shower, baby?</td>\n",
              "    </tr>\n",
              "    <tr>\n",
              "      <th>1389</th>\n",
              "      <td>ham</td>\n",
              "      <td>where are you ? what are you doing ? are yuou ...</td>\n",
              "    </tr>\n",
              "    <tr>\n",
              "      <th>1390</th>\n",
              "      <td>spam</td>\n",
              "      <td>ur cash-balance is currently 500 pounds - to m...</td>\n",
              "    </tr>\n",
              "    <tr>\n",
              "      <th>1391</th>\n",
              "      <td>spam</td>\n",
              "      <td>not heard from u4 a while. call 4 rude chat pr...</td>\n",
              "    </tr>\n",
              "  </tbody>\n",
              "</table>\n",
              "<p>1392 rows × 2 columns</p>\n",
              "</div>"
            ],
            "text/plain": [
              "     label                                            message\n",
              "0      ham  i am in hospital da. . i will return home in e...\n",
              "1      ham         not much, just some textin'. how bout you?\n",
              "2      ham  i probably won't eat at all today. i think i'm...\n",
              "3      ham  don‘t give a flying monkeys wot they think and...\n",
              "4      ham                                who are you seeing?\n",
              "...    ...                                                ...\n",
              "1387   ham  true dear..i sat to pray evening and felt so.s...\n",
              "1388   ham               what will we do in the shower, baby?\n",
              "1389   ham  where are you ? what are you doing ? are yuou ...\n",
              "1390  spam  ur cash-balance is currently 500 pounds - to m...\n",
              "1391  spam  not heard from u4 a while. call 4 rude chat pr...\n",
              "\n",
              "[1392 rows x 2 columns]"
            ]
          },
          "metadata": {
            "tags": []
          },
          "execution_count": 4
        }
      ]
    },
    {
      "cell_type": "code",
      "metadata": {
        "id": "FNP20wJYpnRf",
        "colab": {
          "base_uri": "https://localhost:8080/"
        },
        "outputId": "660afb37-a472-42f7-f5e3-f753743e0ed7"
      },
      "source": [
        "train_data.info()"
      ],
      "execution_count": 5,
      "outputs": [
        {
          "output_type": "stream",
          "text": [
            "<class 'pandas.core.frame.DataFrame'>\n",
            "RangeIndex: 4179 entries, 0 to 4178\n",
            "Data columns (total 2 columns):\n",
            " #   Column   Non-Null Count  Dtype \n",
            "---  ------   --------------  ----- \n",
            " 0   label    4179 non-null   object\n",
            " 1   message  4179 non-null   object\n",
            "dtypes: object(2)\n",
            "memory usage: 65.4+ KB\n"
          ],
          "name": "stdout"
        }
      ]
    },
    {
      "cell_type": "code",
      "metadata": {
        "id": "Azkoc9n_ppCM",
        "colab": {
          "base_uri": "https://localhost:8080/"
        },
        "outputId": "baab50b2-b521-4a79-e27f-4db161e78237"
      },
      "source": [
        "test_data.info()"
      ],
      "execution_count": 6,
      "outputs": [
        {
          "output_type": "stream",
          "text": [
            "<class 'pandas.core.frame.DataFrame'>\n",
            "RangeIndex: 1392 entries, 0 to 1391\n",
            "Data columns (total 2 columns):\n",
            " #   Column   Non-Null Count  Dtype \n",
            "---  ------   --------------  ----- \n",
            " 0   label    1392 non-null   object\n",
            " 1   message  1392 non-null   object\n",
            "dtypes: object(2)\n",
            "memory usage: 21.9+ KB\n"
          ],
          "name": "stdout"
        }
      ]
    },
    {
      "cell_type": "code",
      "metadata": {
        "id": "77OxKI_1pqkL",
        "colab": {
          "base_uri": "https://localhost:8080/",
          "height": 171
        },
        "outputId": "d0d6b1f3-c112-41b7-f47c-5a827191d119"
      },
      "source": [
        "train_data.describe()"
      ],
      "execution_count": 7,
      "outputs": [
        {
          "output_type": "execute_result",
          "data": {
            "text/html": [
              "<div>\n",
              "<style scoped>\n",
              "    .dataframe tbody tr th:only-of-type {\n",
              "        vertical-align: middle;\n",
              "    }\n",
              "\n",
              "    .dataframe tbody tr th {\n",
              "        vertical-align: top;\n",
              "    }\n",
              "\n",
              "    .dataframe thead th {\n",
              "        text-align: right;\n",
              "    }\n",
              "</style>\n",
              "<table border=\"1\" class=\"dataframe\">\n",
              "  <thead>\n",
              "    <tr style=\"text-align: right;\">\n",
              "      <th></th>\n",
              "      <th>label</th>\n",
              "      <th>message</th>\n",
              "    </tr>\n",
              "  </thead>\n",
              "  <tbody>\n",
              "    <tr>\n",
              "      <th>count</th>\n",
              "      <td>4179</td>\n",
              "      <td>4179</td>\n",
              "    </tr>\n",
              "    <tr>\n",
              "      <th>unique</th>\n",
              "      <td>2</td>\n",
              "      <td>3935</td>\n",
              "    </tr>\n",
              "    <tr>\n",
              "      <th>top</th>\n",
              "      <td>ham</td>\n",
              "      <td>sorry, i'll call later</td>\n",
              "    </tr>\n",
              "    <tr>\n",
              "      <th>freq</th>\n",
              "      <td>3619</td>\n",
              "      <td>22</td>\n",
              "    </tr>\n",
              "  </tbody>\n",
              "</table>\n",
              "</div>"
            ],
            "text/plain": [
              "       label                 message\n",
              "count   4179                    4179\n",
              "unique     2                    3935\n",
              "top      ham  sorry, i'll call later\n",
              "freq    3619                      22"
            ]
          },
          "metadata": {
            "tags": []
          },
          "execution_count": 7
        }
      ]
    },
    {
      "cell_type": "code",
      "metadata": {
        "id": "K6ND7oVrpstq",
        "colab": {
          "base_uri": "https://localhost:8080/"
        },
        "outputId": "6fc8b55e-fe54-42b3-8f1f-e7353cd005be"
      },
      "source": [
        "train_data.label.value_counts()"
      ],
      "execution_count": 8,
      "outputs": [
        {
          "output_type": "execute_result",
          "data": {
            "text/plain": [
              "ham     3619\n",
              "spam     560\n",
              "Name: label, dtype: int64"
            ]
          },
          "metadata": {
            "tags": []
          },
          "execution_count": 8
        }
      ]
    },
    {
      "cell_type": "code",
      "metadata": {
        "id": "trP7ipSzpvFy",
        "colab": {
          "base_uri": "https://localhost:8080/"
        },
        "outputId": "415fbb90-7301-45bd-a04c-4f1f382c8b73"
      },
      "source": [
        "560/3619"
      ],
      "execution_count": 9,
      "outputs": [
        {
          "output_type": "execute_result",
          "data": {
            "text/plain": [
              "0.15473887814313347"
            ]
          },
          "metadata": {
            "tags": []
          },
          "execution_count": 9
        }
      ]
    },
    {
      "cell_type": "code",
      "metadata": {
        "id": "PDKBiTc3pwvY",
        "colab": {
          "base_uri": "https://localhost:8080/",
          "height": 171
        },
        "outputId": "e1cca4d9-6f90-492b-9f13-f8f089586523"
      },
      "source": [
        "test_data.describe()"
      ],
      "execution_count": 10,
      "outputs": [
        {
          "output_type": "execute_result",
          "data": {
            "text/html": [
              "<div>\n",
              "<style scoped>\n",
              "    .dataframe tbody tr th:only-of-type {\n",
              "        vertical-align: middle;\n",
              "    }\n",
              "\n",
              "    .dataframe tbody tr th {\n",
              "        vertical-align: top;\n",
              "    }\n",
              "\n",
              "    .dataframe thead th {\n",
              "        text-align: right;\n",
              "    }\n",
              "</style>\n",
              "<table border=\"1\" class=\"dataframe\">\n",
              "  <thead>\n",
              "    <tr style=\"text-align: right;\">\n",
              "      <th></th>\n",
              "      <th>label</th>\n",
              "      <th>message</th>\n",
              "    </tr>\n",
              "  </thead>\n",
              "  <tbody>\n",
              "    <tr>\n",
              "      <th>count</th>\n",
              "      <td>1392</td>\n",
              "      <td>1392</td>\n",
              "    </tr>\n",
              "    <tr>\n",
              "      <th>unique</th>\n",
              "      <td>2</td>\n",
              "      <td>1349</td>\n",
              "    </tr>\n",
              "    <tr>\n",
              "      <th>top</th>\n",
              "      <td>ham</td>\n",
              "      <td>sorry, i'll call later</td>\n",
              "    </tr>\n",
              "    <tr>\n",
              "      <th>freq</th>\n",
              "      <td>1205</td>\n",
              "      <td>8</td>\n",
              "    </tr>\n",
              "  </tbody>\n",
              "</table>\n",
              "</div>"
            ],
            "text/plain": [
              "       label                 message\n",
              "count   1392                    1392\n",
              "unique     2                    1349\n",
              "top      ham  sorry, i'll call later\n",
              "freq    1205                       8"
            ]
          },
          "metadata": {
            "tags": []
          },
          "execution_count": 10
        }
      ]
    },
    {
      "cell_type": "code",
      "metadata": {
        "id": "4I4aTu5xpyd7",
        "colab": {
          "base_uri": "https://localhost:8080/"
        },
        "outputId": "244987df-2472-47f5-b7e5-8bb2f6eab42b"
      },
      "source": [
        "test_data.label.value_counts()"
      ],
      "execution_count": 11,
      "outputs": [
        {
          "output_type": "execute_result",
          "data": {
            "text/plain": [
              "ham     1205\n",
              "spam     187\n",
              "Name: label, dtype: int64"
            ]
          },
          "metadata": {
            "tags": []
          },
          "execution_count": 11
        }
      ]
    },
    {
      "cell_type": "code",
      "metadata": {
        "id": "jdMK8wXmp0GM",
        "colab": {
          "base_uri": "https://localhost:8080/"
        },
        "outputId": "413bc893-1301-45f3-ad76-1c600a81a241"
      },
      "source": [
        "187/1205"
      ],
      "execution_count": 12,
      "outputs": [
        {
          "output_type": "execute_result",
          "data": {
            "text/plain": [
              "0.15518672199170125"
            ]
          },
          "metadata": {
            "tags": []
          },
          "execution_count": 12
        }
      ]
    },
    {
      "cell_type": "markdown",
      "metadata": {
        "id": "_yunKfrNzWl9"
      },
      "source": [
        "After quick look at the dataset, overall both dataset are fine (there are no missing values, label distribution for train set and test set are evenly distributed)."
      ]
    },
    {
      "cell_type": "markdown",
      "metadata": {
        "id": "5GHAccUT1aG9"
      },
      "source": [
        "## Prepare the Data"
      ]
    },
    {
      "cell_type": "markdown",
      "metadata": {
        "id": "R0OPplWz2PRS"
      },
      "source": [
        "First, I have to preprocess the label column into numerical value."
      ]
    },
    {
      "cell_type": "code",
      "metadata": {
        "colab": {
          "base_uri": "https://localhost:8080/"
        },
        "id": "rg1RdfRkHkPP",
        "outputId": "f69f5ace-f037-4b64-e337-11de23f82edc"
      },
      "source": [
        "y_train = train_data['label'].map({\"spam\": 1, \"ham\": 0})\n",
        "y_train"
      ],
      "execution_count": 13,
      "outputs": [
        {
          "output_type": "execute_result",
          "data": {
            "text/plain": [
              "0       0\n",
              "1       0\n",
              "2       0\n",
              "3       0\n",
              "4       0\n",
              "       ..\n",
              "4174    0\n",
              "4175    0\n",
              "4176    1\n",
              "4177    1\n",
              "4178    0\n",
              "Name: label, Length: 4179, dtype: int64"
            ]
          },
          "metadata": {
            "tags": []
          },
          "execution_count": 13
        }
      ]
    },
    {
      "cell_type": "code",
      "metadata": {
        "colab": {
          "base_uri": "https://localhost:8080/"
        },
        "id": "cnJsCJoGHkLx",
        "outputId": "0d99307f-f0e6-4141-aaa6-e62ed1924c8e"
      },
      "source": [
        "y_test = test_data['label'].map({\"spam\": 1, \"ham\": 0})\n",
        "y_test"
      ],
      "execution_count": 14,
      "outputs": [
        {
          "output_type": "execute_result",
          "data": {
            "text/plain": [
              "0       0\n",
              "1       0\n",
              "2       0\n",
              "3       0\n",
              "4       0\n",
              "       ..\n",
              "1387    0\n",
              "1388    0\n",
              "1389    0\n",
              "1390    1\n",
              "1391    1\n",
              "Name: label, Length: 1392, dtype: int64"
            ]
          },
          "metadata": {
            "tags": []
          },
          "execution_count": 14
        }
      ]
    },
    {
      "cell_type": "markdown",
      "metadata": {
        "id": "l0v75tL7430g"
      },
      "source": [
        "Then, I have to preprocess the message column using ***Tokenizer*** class to encoding message to a list of word IDs."
      ]
    },
    {
      "cell_type": "code",
      "metadata": {
        "id": "20FwusJ_5mIk"
      },
      "source": [
        "X_train = []\n",
        "for _ in train_data['message'].values:\n",
        "  X_train.append(_)\n",
        "\n",
        "X_test = []\n",
        "for _ in test_data['message'].values:\n",
        "  X_test.append(_)\n",
        "\n",
        "tokenizer = keras.preprocessing.text.Tokenizer()\n",
        "tokenizer.fit_on_texts(X_train)"
      ],
      "execution_count": 15,
      "outputs": []
    },
    {
      "cell_type": "markdown",
      "metadata": {
        "id": "KACaVL_35xo2"
      },
      "source": [
        "Let's find out how many distinct words in the messages and the total number of messages."
      ]
    },
    {
      "cell_type": "code",
      "metadata": {
        "id": "6I5V86V5HkD7"
      },
      "source": [
        "max_id = len(tokenizer.word_index) # number of distinct words\n",
        "dataset_size = tokenizer.document_count # total number of messages"
      ],
      "execution_count": 16,
      "outputs": []
    },
    {
      "cell_type": "code",
      "metadata": {
        "colab": {
          "base_uri": "https://localhost:8080/"
        },
        "id": "93LnTeHvHkBx",
        "outputId": "32235528-f04b-4c93-9d9e-869123f4a790"
      },
      "source": [
        "max_id"
      ],
      "execution_count": 17,
      "outputs": [
        {
          "output_type": "execute_result",
          "data": {
            "text/plain": [
              "7692"
            ]
          },
          "metadata": {
            "tags": []
          },
          "execution_count": 17
        }
      ]
    },
    {
      "cell_type": "code",
      "metadata": {
        "colab": {
          "base_uri": "https://localhost:8080/"
        },
        "id": "R7mXm_PjHj_i",
        "outputId": "dff22ace-4b7e-4b69-b3d1-2be13dc8d79d"
      },
      "source": [
        "dataset_size"
      ],
      "execution_count": 18,
      "outputs": [
        {
          "output_type": "execute_result",
          "data": {
            "text/plain": [
              "4179"
            ]
          },
          "metadata": {
            "tags": []
          },
          "execution_count": 18
        }
      ]
    },
    {
      "cell_type": "markdown",
      "metadata": {
        "id": "YoOnSv2878C5"
      },
      "source": [
        "Now, let's encode all the message from X_train and X_test to a list of word IDs and put it all encoded value to a new list its called encoded list."
      ]
    },
    {
      "cell_type": "code",
      "metadata": {
        "id": "tr8HOGgSOZ8M"
      },
      "source": [
        "encoded_train = []\n",
        "for _ in X_train:\n",
        "  encoded_train.append(tokenizer.texts_to_sequences([_])[0])\n",
        "\n",
        "encoded_test = []\n",
        "for _ in X_test:\n",
        "  encoded_test.append(tokenizer.texts_to_sequences([_])[0])"
      ],
      "execution_count": 19,
      "outputs": []
    },
    {
      "cell_type": "code",
      "metadata": {
        "colab": {
          "base_uri": "https://localhost:8080/"
        },
        "id": "CdaKRPlaSe-n",
        "outputId": "c69c24b6-d8c9-4718-fe74-586227785939"
      },
      "source": [
        "encoded_train[:5]"
      ],
      "execution_count": 20,
      "outputs": [
        {
          "output_type": "execute_result",
          "data": {
            "text/plain": [
              "[[3666,\n",
              "  36,\n",
              "  2482,\n",
              "  44,\n",
              "  142,\n",
              "  4,\n",
              "  401,\n",
              "  766,\n",
              "  78,\n",
              "  6,\n",
              "  725,\n",
              "  23,\n",
              "  1,\n",
              "  93,\n",
              "  55,\n",
              "  6,\n",
              "  162,\n",
              "  19,\n",
              "  1,\n",
              "  460,\n",
              "  54,\n",
              "  176,\n",
              "  78,\n",
              "  1615,\n",
              "  110,\n",
              "  24,\n",
              "  1,\n",
              "  314,\n",
              "  153,\n",
              "  44,\n",
              "  12,\n",
              "  14],\n",
              " [3, 29, 281, 27, 340],\n",
              " [19,\n",
              "  6,\n",
              "  831,\n",
              "  55,\n",
              "  3667,\n",
              "  3668,\n",
              "  357,\n",
              "  3669,\n",
              "  55,\n",
              "  1,\n",
              "  9,\n",
              "  3670,\n",
              "  18,\n",
              "  95,\n",
              "  415,\n",
              "  85,\n",
              "  493,\n",
              "  113,\n",
              "  6,\n",
              "  3671,\n",
              "  41,\n",
              "  3672,\n",
              "  434,\n",
              "  537],\n",
              " [767,\n",
              "  144,\n",
              "  40,\n",
              "  276,\n",
              "  2,\n",
              "  46,\n",
              "  56,\n",
              "  46,\n",
              "  56,\n",
              "  88,\n",
              "  29,\n",
              "  3673,\n",
              "  3674,\n",
              "  341,\n",
              "  95,\n",
              "  3675,\n",
              "  3676],\n",
              " [281,\n",
              "  315,\n",
              "  606,\n",
              "  1,\n",
              "  261,\n",
              "  971,\n",
              "  58,\n",
              "  145,\n",
              "  316,\n",
              "  62,\n",
              "  77,\n",
              "  68,\n",
              "  10,\n",
              "  95,\n",
              "  1616,\n",
              "  197,\n",
              "  140,\n",
              "  75]]"
            ]
          },
          "metadata": {
            "tags": []
          },
          "execution_count": 20
        }
      ]
    },
    {
      "cell_type": "code",
      "metadata": {
        "colab": {
          "base_uri": "https://localhost:8080/"
        },
        "id": "eGikhx_KQHs9",
        "outputId": "18f92e9b-bde7-4319-d7e1-768e5fc6e92a"
      },
      "source": [
        "encoded_test[:5]"
      ],
      "execution_count": 21,
      "outputs": [
        {
          "output_type": "execute_result",
          "data": {
            "text/plain": [
              "[[1, 64, 8, 1776, 95, 1, 31, 1471, 85, 8, 531],\n",
              " [25, 115, 36, 119, 49, 811, 3],\n",
              " [1,\n",
              "  381,\n",
              "  558,\n",
              "  365,\n",
              "  28,\n",
              "  51,\n",
              "  90,\n",
              "  1,\n",
              "  111,\n",
              "  30,\n",
              "  199,\n",
              "  6648,\n",
              "  49,\n",
              "  65,\n",
              "  13,\n",
              "  420,\n",
              "  118,\n",
              "  6,\n",
              "  172,\n",
              "  10],\n",
              " [3538,\n",
              "  150,\n",
              "  4,\n",
              "  493,\n",
              "  107,\n",
              "  111,\n",
              "  7,\n",
              "  1,\n",
              "  6337,\n",
              "  3538,\n",
              "  308,\n",
              "  109,\n",
              "  246,\n",
              "  15,\n",
              "  853,\n",
              "  7,\n",
              "  51,\n",
              "  20],\n",
              " [127, 22, 3, 865]]"
            ]
          },
          "metadata": {
            "tags": []
          },
          "execution_count": 21
        }
      ]
    },
    {
      "cell_type": "markdown",
      "metadata": {
        "id": "YaQG79ZO8nBY"
      },
      "source": [
        "Notice that they are different lengths in encoded list. This is an issue, it cannot pass different length data into neural network model. Therefore, I have to make each list in encoded list the same length. To do this I will follow the procedure below:\n",
        "- if greater than 1000 words then trim off the extra words\n",
        "- if less than 1000 words add the necessary amount of 0's to make it equal to 1000."
      ]
    },
    {
      "cell_type": "code",
      "metadata": {
        "id": "17w-RnFtJ6Hp"
      },
      "source": [
        "from keras.preprocessing import sequence\n",
        "\n",
        "MAXLEN = 1000\n",
        "\n",
        "train = sequence.pad_sequences(encoded_train, MAXLEN)\n",
        "test = sequence.pad_sequences(encoded_test, MAXLEN)"
      ],
      "execution_count": 22,
      "outputs": []
    },
    {
      "cell_type": "markdown",
      "metadata": {
        "id": "somZxhe3-Wtv"
      },
      "source": [
        "Let's check if it's work or not."
      ]
    },
    {
      "cell_type": "code",
      "metadata": {
        "colab": {
          "base_uri": "https://localhost:8080/"
        },
        "id": "3nsC-4WpJ6FA",
        "outputId": "195cfe5b-8304-493c-e6d3-84fc355ca14b"
      },
      "source": [
        "train"
      ],
      "execution_count": 23,
      "outputs": [
        {
          "output_type": "execute_result",
          "data": {
            "text/plain": [
              "array([[   0,    0,    0, ...,   44,   12,   14],\n",
              "       [   0,    0,    0, ...,  281,   27,  340],\n",
              "       [   0,    0,    0, ..., 3672,  434,  537],\n",
              "       ...,\n",
              "       [   0,    0,    0, ..., 3592,  220,  191],\n",
              "       [   0,    0,    0, ...,  750,    2, 1113],\n",
              "       [   0,    0,    0, ..., 7692,   57,  180]], dtype=int32)"
            ]
          },
          "metadata": {
            "tags": []
          },
          "execution_count": 23
        }
      ]
    },
    {
      "cell_type": "code",
      "metadata": {
        "colab": {
          "base_uri": "https://localhost:8080/"
        },
        "id": "SIugQCn3nGTX",
        "outputId": "66e195e1-05f3-46b7-ddcc-07ac8b0b6814"
      },
      "source": [
        "len(train[0])"
      ],
      "execution_count": 24,
      "outputs": [
        {
          "output_type": "execute_result",
          "data": {
            "text/plain": [
              "1000"
            ]
          },
          "metadata": {
            "tags": []
          },
          "execution_count": 24
        }
      ]
    },
    {
      "cell_type": "code",
      "metadata": {
        "colab": {
          "base_uri": "https://localhost:8080/"
        },
        "id": "yoDhcVDe-R0P",
        "outputId": "a2da2a3a-ca23-400c-8bf9-e476416ccc30"
      },
      "source": [
        "len(train[1])"
      ],
      "execution_count": 25,
      "outputs": [
        {
          "output_type": "execute_result",
          "data": {
            "text/plain": [
              "1000"
            ]
          },
          "metadata": {
            "tags": []
          },
          "execution_count": 25
        }
      ]
    },
    {
      "cell_type": "code",
      "metadata": {
        "colab": {
          "base_uri": "https://localhost:8080/"
        },
        "id": "k3fXxaInJ6Cs",
        "outputId": "7a0d1319-7b25-4e58-938c-d88559c0ebee"
      },
      "source": [
        "test"
      ],
      "execution_count": 26,
      "outputs": [
        {
          "output_type": "execute_result",
          "data": {
            "text/plain": [
              "array([[   0,    0,    0, ...,   85,    8,  531],\n",
              "       [   0,    0,    0, ...,   49,  811,    3],\n",
              "       [   0,    0,    0, ...,    6,  172,   10],\n",
              "       ...,\n",
              "       [   0,    0,    0, ...,    1,   79,    3],\n",
              "       [   0,    0,    0, ...,  963,  739, 1186],\n",
              "       [   0,    0,    0, ...,   87, 2598,  358]], dtype=int32)"
            ]
          },
          "metadata": {
            "tags": []
          },
          "execution_count": 26
        }
      ]
    },
    {
      "cell_type": "code",
      "metadata": {
        "colab": {
          "base_uri": "https://localhost:8080/"
        },
        "id": "ofSCK4T6-hf4",
        "outputId": "6a7f7a9f-6ad9-43b5-ec91-d4f523be2cec"
      },
      "source": [
        "len(test[0])"
      ],
      "execution_count": 27,
      "outputs": [
        {
          "output_type": "execute_result",
          "data": {
            "text/plain": [
              "1000"
            ]
          },
          "metadata": {
            "tags": []
          },
          "execution_count": 27
        }
      ]
    },
    {
      "cell_type": "code",
      "metadata": {
        "colab": {
          "base_uri": "https://localhost:8080/"
        },
        "id": "oF1R_jNx-kiY",
        "outputId": "8f2ae929-73a2-4b12-cf61-fd8b268cf8a6"
      },
      "source": [
        "len(test[1])"
      ],
      "execution_count": 28,
      "outputs": [
        {
          "output_type": "execute_result",
          "data": {
            "text/plain": [
              "1000"
            ]
          },
          "metadata": {
            "tags": []
          },
          "execution_count": 28
        }
      ]
    },
    {
      "cell_type": "markdown",
      "metadata": {
        "id": "nB3pthq6Cv8b"
      },
      "source": [
        "Great, it's worked!"
      ]
    },
    {
      "cell_type": "markdown",
      "metadata": {
        "id": "txcItgrh_2hQ"
      },
      "source": [
        "## Train a Model"
      ]
    },
    {
      "cell_type": "markdown",
      "metadata": {
        "id": "J7THRKY-_3yI"
      },
      "source": [
        "Now, create the model and train it. I'll use a word embedding layer as the first layer in the model and add a LSTM layer afterwards that feeds into a dense node to get the predicted sentiment. \n",
        "\n",
        "64 stands for the output dimension of the vectors generated by the embedding layer."
      ]
    },
    {
      "cell_type": "code",
      "metadata": {
        "id": "EbZhdUHFJ6A9"
      },
      "source": [
        "# VOCAB_SIZE = 7693\n",
        "VOCAB_SIZE = max_id + 1\n",
        "\n",
        "model = tf.keras.Sequential([\n",
        "    tf.keras.layers.Embedding(VOCAB_SIZE, 64),\n",
        "    tf.keras.layers.LSTM(64),\n",
        "    tf.keras.layers.Dense(1, activation=\"sigmoid\")\n",
        "])"
      ],
      "execution_count": 29,
      "outputs": []
    },
    {
      "cell_type": "code",
      "metadata": {
        "colab": {
          "base_uri": "https://localhost:8080/"
        },
        "id": "urS50Pg9J5-c",
        "outputId": "e8cbb775-a96c-414c-94c9-c25b59628426"
      },
      "source": [
        "model.summary()"
      ],
      "execution_count": 30,
      "outputs": [
        {
          "output_type": "stream",
          "text": [
            "Model: \"sequential\"\n",
            "_________________________________________________________________\n",
            "Layer (type)                 Output Shape              Param #   \n",
            "=================================================================\n",
            "embedding (Embedding)        (None, None, 64)          492352    \n",
            "_________________________________________________________________\n",
            "lstm (LSTM)                  (None, 64)                33024     \n",
            "_________________________________________________________________\n",
            "dense (Dense)                (None, 1)                 65        \n",
            "=================================================================\n",
            "Total params: 525,441\n",
            "Trainable params: 525,441\n",
            "Non-trainable params: 0\n",
            "_________________________________________________________________\n"
          ],
          "name": "stdout"
        }
      ]
    },
    {
      "cell_type": "code",
      "metadata": {
        "colab": {
          "base_uri": "https://localhost:8080/"
        },
        "id": "oGMmznAUJ577",
        "outputId": "eeca59f6-141b-428d-bddf-6ba081d595f2"
      },
      "source": [
        "model.compile(loss = \"binary_crossentropy\", optimizer = \"rmsprop\", metrics = ['acc'])\n",
        "\n",
        "history = model.fit(train, y_train, epochs = 7, validation_split = 0.2)"
      ],
      "execution_count": 31,
      "outputs": [
        {
          "output_type": "stream",
          "text": [
            "Epoch 1/7\n",
            "105/105 [==============================] - 53s 491ms/step - loss: 0.2016 - acc: 0.9261 - val_loss: 0.0636 - val_acc: 0.9868\n",
            "Epoch 2/7\n",
            "105/105 [==============================] - 51s 489ms/step - loss: 0.0447 - acc: 0.9877 - val_loss: 0.0598 - val_acc: 0.9868\n",
            "Epoch 3/7\n",
            "105/105 [==============================] - 52s 493ms/step - loss: 0.0272 - acc: 0.9925 - val_loss: 0.0617 - val_acc: 0.9833\n",
            "Epoch 4/7\n",
            "105/105 [==============================] - 52s 492ms/step - loss: 0.0172 - acc: 0.9952 - val_loss: 0.0438 - val_acc: 0.9880\n",
            "Epoch 5/7\n",
            "105/105 [==============================] - 51s 489ms/step - loss: 0.0131 - acc: 0.9961 - val_loss: 0.0371 - val_acc: 0.9928\n",
            "Epoch 6/7\n",
            "105/105 [==============================] - 52s 491ms/step - loss: 0.0088 - acc: 0.9973 - val_loss: 0.0447 - val_acc: 0.9928\n",
            "Epoch 7/7\n",
            "105/105 [==============================] - 52s 493ms/step - loss: 0.0060 - acc: 0.9988 - val_loss: 0.0523 - val_acc: 0.9904\n"
          ],
          "name": "stdout"
        }
      ]
    },
    {
      "cell_type": "markdown",
      "metadata": {
        "id": "FAmYkWiOBEiq"
      },
      "source": [
        "## Evaluate and Test "
      ]
    },
    {
      "cell_type": "markdown",
      "metadata": {
        "id": "7F8FfS6TAsDO"
      },
      "source": [
        "At last, let's evaluate the model on the test data to see how well it performs."
      ]
    },
    {
      "cell_type": "code",
      "metadata": {
        "colab": {
          "base_uri": "https://localhost:8080/"
        },
        "id": "L9Wx81jzJ5zS",
        "outputId": "5462dc79-2552-4b8e-8504-9dfbc6702f99"
      },
      "source": [
        "results = model.evaluate(test, y_test)\n",
        "print(results)"
      ],
      "execution_count": 32,
      "outputs": [
        {
          "output_type": "stream",
          "text": [
            "44/44 [==============================] - 4s 94ms/step - loss: 0.0572 - acc: 0.9871\n",
            "[0.05719532445073128, 0.9870689511299133]\n"
          ],
          "name": "stdout"
        }
      ]
    },
    {
      "cell_type": "markdown",
      "metadata": {
        "id": "4K0Tz7cKBQjW"
      },
      "source": [
        "Now let’s use the model to make predictions. \n",
        "\n",
        "Before make prediction, I need to convert any message that I write into that form so the model can understand it. To do that I'll load the encodings from the dataset before and use them to encode this message."
      ]
    },
    {
      "cell_type": "code",
      "metadata": {
        "colab": {
          "base_uri": "https://localhost:8080/"
        },
        "id": "bKtB0jQNUTwW",
        "outputId": "715355cf-3c96-4135-b1a4-87c55e3ce6fb"
      },
      "source": [
        "# function to predict messages based on model\n",
        "# (should return list containing prediction and label, ex. [0.008318834938108921, 'ham'])\n",
        "def predict_message(pred_text):\n",
        "  pred_text = [pred_text]\n",
        "  encoded_pred = []\n",
        "  for _ in pred_text:\n",
        "    encoded_pred.append(tokenizer.texts_to_sequences([_])[0])\n",
        "  \n",
        "  pred = sequence.pad_sequences(encoded_pred, MAXLEN)\n",
        "  result = model.predict(pred)\n",
        "  if result[0][0] < 0.5:\n",
        "    label = \"ham\"\n",
        "  else:\n",
        "    label = \"spam\"\n",
        "  prediction = [result[0][0], label]\n",
        "  return (prediction)\n",
        "\n",
        "pred_text = \"how are you doing today?\"\n",
        "\n",
        "prediction = predict_message(pred_text)\n",
        "print(prediction)"
      ],
      "execution_count": 33,
      "outputs": [
        {
          "output_type": "stream",
          "text": [
            "[6.040542e-05, 'ham']\n"
          ],
          "name": "stdout"
        }
      ]
    },
    {
      "cell_type": "code",
      "metadata": {
        "colab": {
          "base_uri": "https://localhost:8080/"
        },
        "id": "1xt7j1BlUTt4",
        "outputId": "172e5bb8-7ee8-4a25-e8c7-cc99e5ee5c24"
      },
      "source": [
        "# Run this cell to test your function and model. Do not modify contents.\n",
        "def test_predictions():\n",
        "  test_messages = [\"how are you doing today\",\n",
        "                   \"sale today! to stop texts call 98912460324\",\n",
        "                   \"i dont want to go. can we try it a different day? available sat\",\n",
        "                   \"our new mobile video service is live. just install on your phone to start watching.\",\n",
        "                   \"you have won £1000 cash! call to claim your prize.\",\n",
        "                   \"i'll bring it tomorrow. don't forget the milk.\",\n",
        "                   \"wow, is your arm alright. that happened to me one time too\"\n",
        "                  ]\n",
        "\n",
        "  test_answers = [\"ham\", \"spam\", \"ham\", \"spam\", \"spam\", \"ham\", \"ham\"]\n",
        "  passed = True\n",
        "\n",
        "  for msg, ans in zip(test_messages, test_answers):\n",
        "    prediction = predict_message(msg)\n",
        "    if prediction[1] != ans:\n",
        "      passed = False\n",
        "\n",
        "  if passed:\n",
        "    print(\"You passed the challenge. Great job!\")\n",
        "  else:\n",
        "    print(\"You haven't passed yet. Keep trying.\")\n",
        "\n",
        "test_predictions()\n"
      ],
      "execution_count": 34,
      "outputs": [
        {
          "output_type": "stream",
          "text": [
            "You passed the challenge. Great job!\n"
          ],
          "name": "stdout"
        }
      ]
    },
    {
      "cell_type": "code",
      "metadata": {
        "colab": {
          "base_uri": "https://localhost:8080/"
        },
        "id": "RFOfLx5BUTqk",
        "outputId": "602cc55c-b867-4fd5-ad50-b10ac91ae627"
      },
      "source": [
        "test_messages = [\"how are you doing today\",\n",
        "                   \"sale today! to stop texts call 98912460324\",\n",
        "                   \"i dont want to go. can we try it a different day? available sat\",\n",
        "                   \"our new mobile video service is live. just install on your phone to start watching.\",\n",
        "                   \"you have won £1000 cash! call to claim your prize.\",\n",
        "                   \"i'll bring it tomorrow. don't forget the milk.\",\n",
        "                   \"wow, is your arm alright. that happened to me one time too\"\n",
        "                  ]\n",
        "\n",
        "for i in test_messages:\n",
        "  print(predict_message(i))"
      ],
      "execution_count": 35,
      "outputs": [
        {
          "output_type": "stream",
          "text": [
            "[6.040542e-05, 'ham']\n",
            "[0.6415102, 'spam']\n",
            "[5.7118043e-05, 'ham']\n",
            "[0.99988735, 'spam']\n",
            "[0.9999113, 'spam']\n",
            "[0.00014007092, 'ham']\n",
            "[1.888928e-05, 'ham']\n"
          ],
          "name": "stdout"
        }
      ]
    }
  ]
}